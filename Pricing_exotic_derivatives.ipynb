{
  "nbformat": 4,
  "nbformat_minor": 0,
  "metadata": {
    "colab": {
      "name": "Pricing exotic derivatives.ipynb",
      "provenance": [],
      "collapsed_sections": [
        "KZ0R6hu30h8z",
        "DDpVonZr18hW",
        "qof4zZtJ9c-v",
        "vtB9bV-9wci6",
        "hep3WLIW3dP6",
        "VjwlhgjHF36A",
        "4nvUscb3j-bO",
        "mxKWbxvukSEM",
        "ZB2QwaaCiJT3",
        "aq-wEXaifwgJ",
        "kp319H7ztPhg",
        "ehKcQqaBwp95",
        "E94_9_29goxD",
        "-vwnJ7Im3nYQ",
        "4GJT13HvaSua",
        "2zXiXi8t9GNk",
        "q2xR80w833DQ"
      ]
    },
    "kernelspec": {
      "name": "python3",
      "display_name": "Python 3"
    },
    "language_info": {
      "name": "python"
    }
  },
  "cells": [
    {
      "cell_type": "markdown",
      "metadata": {
        "id": "KZ0R6hu30h8z"
      },
      "source": [
        "### Imports"
      ]
    },
    {
      "cell_type": "code",
      "metadata": {
        "id": "SLUCs4pG2LOl"
      },
      "source": [
        "import numpy as np\n",
        "import pandas as pd\n",
        "import matplotlib.pyplot as plt\n",
        "import random\n",
        "import math\n",
        "from time import time\n",
        "from scipy.stats import norm\n",
        "\n",
        "from sklearn.model_selection import train_test_split\n",
        "from sklearn import preprocessing\n",
        "from sklearn.preprocessing import MinMaxScaler\n",
        "\n",
        "import keras\n",
        "from keras.models import Sequential\n",
        "from keras.layers import Dense\n",
        "from keras.layers import LSTM\n",
        "from keras.layers import Dropout\n",
        "from keras.layers import *\n",
        "from sklearn.preprocessing import MinMaxScaler\n",
        "from sklearn.metrics import mean_squared_error\n",
        "from sklearn.metrics import mean_absolute_error\n",
        "from keras.callbacks import EarlyStopping\n",
        "from tensorflow.keras.optimizers import *"
      ],
      "execution_count": 1,
      "outputs": []
    },
    {
      "cell_type": "code",
      "metadata": {
        "id": "pw98hyLSXwpf"
      },
      "source": [
        "import tensorflow as tf\n",
        "from tensorflow import keras\n",
        "from tensorflow.keras import models\n",
        "from tensorflow.keras import layers\n",
        "from tensorflow.keras import optimizers\n",
        "from tensorflow.keras.models import *\n",
        "from tensorflow.keras.layers import *\n",
        "from tensorflow.keras.optimizers import *\n",
        "from keras.models import Sequential\n",
        "from keras.losses import binary_crossentropy\n",
        "from keras.layers import Dense, Flatten, Conv2D, MaxPooling2D, Dropout, BatchNormalization\n",
        "from sklearn import metrics\n",
        "from sklearn.metrics import confusion_matrix, accuracy_score, f1_score, precision_score, recall_score, multilabel_confusion_matrix\n",
        "from tensorflow.keras.applications import * #Efficient Net included here"
      ],
      "execution_count": 2,
      "outputs": []
    },
    {
      "cell_type": "markdown",
      "metadata": {
        "id": "DDpVonZr18hW"
      },
      "source": [
        "### Helper functions"
      ]
    },
    {
      "cell_type": "code",
      "metadata": {
        "id": "ydy8UA6715h_"
      },
      "source": [
        "def print_loss_history(training_history, logscale=False):\n",
        "    loss = training_history['loss']\n",
        "    val_loss = training_history['val_loss']\n",
        "    epochs = range(1, len(loss) + 1)\n",
        "    plt.plot(epochs, loss, color='red', label='Training loss')\n",
        "    plt.plot(epochs, val_loss, color='green', label='Validation loss')\n",
        "    plt.title('Training and validation loss')\n",
        "    plt.xlabel('Epochs')\n",
        "    plt.ylabel('Loss')\n",
        "    plt.legend()\n",
        "    if logscale:\n",
        "        plt.yscale('log')\n",
        "    plt.show()\n",
        "    return\n",
        "\n",
        "def print_accuracy_history(training_history, logscale=False):\n",
        "    # acc = training_history['categorical_accuracy']\n",
        "    # val_acc = training_history['val_categorical_accuracy']\n",
        "    acc = training_history['accuracy']\n",
        "    val_acc = training_history['val_accuracy']\n",
        "    epochs = range(1, len(acc) + 1)\n",
        "    plt.plot(epochs, acc, color='red', label='Training acc')\n",
        "    plt.plot(epochs, val_acc, color='green', label='Validation acc')\n",
        "    plt.title('Training and validation accuracy')\n",
        "    plt.xlabel('Epochs')\n",
        "    plt.ylabel('Accuracy')\n",
        "    plt.legend()\n",
        "    if logscale:\n",
        "      plt.yscale('log')\n",
        "    plt.show()\n",
        "    return"
      ],
      "execution_count": 3,
      "outputs": []
    },
    {
      "cell_type": "code",
      "metadata": {
        "id": "prFKptqfv2qm"
      },
      "source": [
        "# calculate a 6-number summary\n",
        "from numpy import percentile\n",
        "from numpy.random import rand\n",
        "\n",
        "def six_number_summary(data):\n",
        "  data = data\n",
        "  # calculate quartiles\n",
        "  quartiles = percentile(data, [25, 50, 75])\n",
        "  # calculate min/max\n",
        "  data_min, data_max, data_avg = np.min(data), np.max(data), np.average(data)\n",
        "  # print 6-number summary\n",
        "  return 'Avg: %.3f' % data_avg, 'Min: %.3f' % data_min, 'Q1: %.3f' % quartiles[0],'Median: %.3f' % quartiles[1], 'Q3: %.3f' % quartiles[2],'Max: %.3f' % data_max\n",
        "\n",
        "  # print('Min: %.3f' % data_min)\n",
        "  # print('Q1: %.3f' % quartiles[0])\n",
        "  # print('Median: %.3f' % quartiles[1])\n",
        "  # print('Q3: %.3f' % quartiles[2])\n",
        "  # print('Max: %.3f' % data_max)"
      ],
      "execution_count": 4,
      "outputs": []
    },
    {
      "cell_type": "markdown",
      "metadata": {
        "id": "qof4zZtJ9c-v"
      },
      "source": [
        "### Constants"
      ]
    },
    {
      "cell_type": "code",
      "metadata": {
        "id": "tFZUQPaE9Xaa"
      },
      "source": [
        "SIZE = 1000\n",
        "INTEREST_RATE = .1\n",
        "TIME_TO_EXP = .25\n",
        "STDEV = .5"
      ],
      "execution_count": 5,
      "outputs": []
    },
    {
      "cell_type": "markdown",
      "metadata": {
        "id": "vtB9bV-9wci6"
      },
      "source": [
        "### Create input data for Black-Scholes"
      ]
    },
    {
      "cell_type": "code",
      "metadata": {
        "colab": {
          "base_uri": "https://localhost:8080/"
        },
        "id": "45hwN02ApJae",
        "outputId": "7574dcb5-29e9-47d8-ffdc-b73c098663dd"
      },
      "source": [
        "stock_price = np.round(np.random.uniform(low=100.0, high=150.0, size=SIZE), 2)\n",
        "print(len(stock_price))\n",
        "print(stock_price[0:5])"
      ],
      "execution_count": 6,
      "outputs": [
        {
          "output_type": "stream",
          "name": "stdout",
          "text": [
            "1000\n",
            "[102.5  137.74 130.55 131.77 107.64]\n"
          ]
        }
      ]
    },
    {
      "cell_type": "code",
      "metadata": {
        "colab": {
          "base_uri": "https://localhost:8080/"
        },
        "id": "za6UYJRSpJYH",
        "outputId": "39b2ecc4-c098-4ba7-aab5-2ca458732082"
      },
      "source": [
        "exercise_price = np.round(np.random.uniform(low=80.0, high=100.0, size=SIZE), 2)\n",
        "print(len(exercise_price))\n",
        "print(exercise_price[0:5])"
      ],
      "execution_count": 7,
      "outputs": [
        {
          "output_type": "stream",
          "name": "stdout",
          "text": [
            "1000\n",
            "[88.68 86.9  98.08 85.26 89.59]\n"
          ]
        }
      ]
    },
    {
      "cell_type": "code",
      "metadata": {
        "colab": {
          "base_uri": "https://localhost:8080/"
        },
        "id": "XBIDDgQJpJRu",
        "outputId": "a9093096-f5a5-4083-c18b-7db20548e860"
      },
      "source": [
        "interest_rate = np.full(SIZE, INTEREST_RATE)\n",
        "print(len(interest_rate))\n",
        "print(interest_rate[0:5])"
      ],
      "execution_count": 8,
      "outputs": [
        {
          "output_type": "stream",
          "name": "stdout",
          "text": [
            "1000\n",
            "[0.1 0.1 0.1 0.1 0.1]\n"
          ]
        }
      ]
    },
    {
      "cell_type": "code",
      "metadata": {
        "colab": {
          "base_uri": "https://localhost:8080/"
        },
        "id": "q8c8dQNmpJMj",
        "outputId": "1208e28a-2314-4417-90bb-933615b62b11"
      },
      "source": [
        "time_to_expiration = np.full(SIZE, TIME_TO_EXP)\n",
        "print(len(time_to_expiration))\n",
        "print(time_to_expiration[0:5])"
      ],
      "execution_count": 9,
      "outputs": [
        {
          "output_type": "stream",
          "name": "stdout",
          "text": [
            "1000\n",
            "[0.25 0.25 0.25 0.25 0.25]\n"
          ]
        }
      ]
    },
    {
      "cell_type": "code",
      "metadata": {
        "colab": {
          "base_uri": "https://localhost:8080/"
        },
        "id": "iAYpw-BdpJGo",
        "outputId": "6da9b1cb-63c2-4cf4-adda-7740104ea559"
      },
      "source": [
        "standard_deviation = np.full(SIZE, STDEV)\n",
        "print(len(standard_deviation))\n",
        "print(standard_deviation[0:5])"
      ],
      "execution_count": 10,
      "outputs": [
        {
          "output_type": "stream",
          "name": "stdout",
          "text": [
            "1000\n",
            "[0.5 0.5 0.5 0.5 0.5]\n"
          ]
        }
      ]
    },
    {
      "cell_type": "markdown",
      "metadata": {
        "id": "hep3WLIW3dP6"
      },
      "source": [
        "### Create initial dataframe"
      ]
    },
    {
      "cell_type": "code",
      "metadata": {
        "id": "eCS_FWj92jHt"
      },
      "source": [
        "input_dict = {'stock_price': stock_price, \n",
        "     'exercise_price': exercise_price, \n",
        "     'interest_rate': interest_rate,\n",
        "     'time_to_exp': time_to_expiration,\n",
        "     'stdev': standard_deviation \n",
        "     }"
      ],
      "execution_count": 11,
      "outputs": []
    },
    {
      "cell_type": "code",
      "metadata": {
        "id": "U3J57am2pI9I"
      },
      "source": [
        "df = pd.DataFrame(data=input_dict)"
      ],
      "execution_count": 12,
      "outputs": []
    },
    {
      "cell_type": "code",
      "metadata": {
        "colab": {
          "base_uri": "https://localhost:8080/"
        },
        "id": "AgO8pjmK3pt5",
        "outputId": "399a67a6-38f7-4bc8-d9c7-6d6f76b6379e"
      },
      "source": [
        "print(df.shape)"
      ],
      "execution_count": 13,
      "outputs": [
        {
          "output_type": "stream",
          "name": "stdout",
          "text": [
            "(1000, 5)\n"
          ]
        }
      ]
    },
    {
      "cell_type": "code",
      "metadata": {
        "colab": {
          "base_uri": "https://localhost:8080/",
          "height": 206
        },
        "id": "iePT3tBapIxi",
        "outputId": "1c42cff1-ec7c-4844-8f16-c1538bc67718"
      },
      "source": [
        "df.head()"
      ],
      "execution_count": 14,
      "outputs": [
        {
          "output_type": "execute_result",
          "data": {
            "text/html": [
              "<div>\n",
              "<style scoped>\n",
              "    .dataframe tbody tr th:only-of-type {\n",
              "        vertical-align: middle;\n",
              "    }\n",
              "\n",
              "    .dataframe tbody tr th {\n",
              "        vertical-align: top;\n",
              "    }\n",
              "\n",
              "    .dataframe thead th {\n",
              "        text-align: right;\n",
              "    }\n",
              "</style>\n",
              "<table border=\"1\" class=\"dataframe\">\n",
              "  <thead>\n",
              "    <tr style=\"text-align: right;\">\n",
              "      <th></th>\n",
              "      <th>stock_price</th>\n",
              "      <th>exercise_price</th>\n",
              "      <th>interest_rate</th>\n",
              "      <th>time_to_exp</th>\n",
              "      <th>stdev</th>\n",
              "    </tr>\n",
              "  </thead>\n",
              "  <tbody>\n",
              "    <tr>\n",
              "      <th>0</th>\n",
              "      <td>102.50</td>\n",
              "      <td>88.68</td>\n",
              "      <td>0.1</td>\n",
              "      <td>0.25</td>\n",
              "      <td>0.5</td>\n",
              "    </tr>\n",
              "    <tr>\n",
              "      <th>1</th>\n",
              "      <td>137.74</td>\n",
              "      <td>86.90</td>\n",
              "      <td>0.1</td>\n",
              "      <td>0.25</td>\n",
              "      <td>0.5</td>\n",
              "    </tr>\n",
              "    <tr>\n",
              "      <th>2</th>\n",
              "      <td>130.55</td>\n",
              "      <td>98.08</td>\n",
              "      <td>0.1</td>\n",
              "      <td>0.25</td>\n",
              "      <td>0.5</td>\n",
              "    </tr>\n",
              "    <tr>\n",
              "      <th>3</th>\n",
              "      <td>131.77</td>\n",
              "      <td>85.26</td>\n",
              "      <td>0.1</td>\n",
              "      <td>0.25</td>\n",
              "      <td>0.5</td>\n",
              "    </tr>\n",
              "    <tr>\n",
              "      <th>4</th>\n",
              "      <td>107.64</td>\n",
              "      <td>89.59</td>\n",
              "      <td>0.1</td>\n",
              "      <td>0.25</td>\n",
              "      <td>0.5</td>\n",
              "    </tr>\n",
              "  </tbody>\n",
              "</table>\n",
              "</div>"
            ],
            "text/plain": [
              "   stock_price  exercise_price  interest_rate  time_to_exp  stdev\n",
              "0       102.50           88.68            0.1         0.25    0.5\n",
              "1       137.74           86.90            0.1         0.25    0.5\n",
              "2       130.55           98.08            0.1         0.25    0.5\n",
              "3       131.77           85.26            0.1         0.25    0.5\n",
              "4       107.64           89.59            0.1         0.25    0.5"
            ]
          },
          "metadata": {},
          "execution_count": 14
        }
      ]
    },
    {
      "cell_type": "markdown",
      "metadata": {
        "id": "VjwlhgjHF36A"
      },
      "source": [
        "### Define functions for Black-Scholes outputs"
      ]
    },
    {
      "cell_type": "markdown",
      "source": [
        "I created these functions from scratch referencing the text \"Investments\" by Bodie, Kane, and Marcus"
      ],
      "metadata": {
        "id": "ttumeiSXeS_J"
      }
    },
    {
      "cell_type": "code",
      "metadata": {
        "id": "r4tuV6lHOJRE"
      },
      "source": [
        "# Define N(d1) function\n",
        "# sp=stock price, ep=exercise price, ir=interest rate, t=time to exp , stdev=standard deviation\n",
        "def Nd1(sp, ep, ir, t, stdev):\n",
        "  d1 = np.round(((math.log(sp/ep) + (ir + ((stdev**2)/2)) * t) / (stdev * math.sqrt(t))), 2)\n",
        "  N_d1 = np.round(norm.cdf(d1), 4)\n",
        "  return N_d1"
      ],
      "execution_count": 15,
      "outputs": []
    },
    {
      "cell_type": "code",
      "metadata": {
        "id": "_xUPV0zdOBpI"
      },
      "source": [
        "# Define N(d2) function\n",
        "# sp=stock price, ep=exercise price, ir=interest rate, t=time to exp , stdev=standard deviation\n",
        "def Nd2(sp, ep, ir, t, stdev):\n",
        "  d1 = np.round(((math.log(sp/ep) + (ir + ((stdev**2)/2)) * t) / (stdev * math.sqrt(t))), 2)\n",
        "  d2 = np.round(d1 - (stdev * math.sqrt(t)), 2)\n",
        "  N_d2 = np.round(norm.cdf(d2), 4)\n",
        "  return N_d2"
      ],
      "execution_count": 16,
      "outputs": []
    },
    {
      "cell_type": "code",
      "metadata": {
        "colab": {
          "base_uri": "https://localhost:8080/"
        },
        "id": "3N7qbHOyOO29",
        "outputId": "180eae42-a637-4695-ea41-d9d7661b5013"
      },
      "source": [
        "# Tests of N(d) functions; they are indeed producing the expected output!\n",
        "print(Nd1(100, 95, .1, .25, .5))\n",
        "print(Nd2(100, 95, .1, .25, .5))"
      ],
      "execution_count": 17,
      "outputs": [
        {
          "output_type": "stream",
          "name": "stdout",
          "text": [
            "0.6664\n",
            "0.5714\n"
          ]
        }
      ]
    },
    {
      "cell_type": "code",
      "metadata": {
        "id": "pR2xXWWVGMUX"
      },
      "source": [
        "# Define the Black-Scholes pricing formula for a call option; returns current call option value\n",
        "def C(sp, ep, ir, t, stdev):\n",
        "  d1 = np.round(((math.log(sp/ep) + (ir + ((stdev**2)/2)) * t) / (stdev * math.sqrt(t))), 2)\n",
        "  d2 = np.round(d1 - (stdev * math.sqrt(t)), 2)\n",
        "  N_d1 = np.round(norm.cdf(d1), 4)\n",
        "  N_d2 = np.round(norm.cdf(d2), 4)\n",
        "  call_value = np.round((sp * N_d1) - (ep * (math.e**(-1.0*ir*t)) * N_d2), 2)\n",
        "  return call_value"
      ],
      "execution_count": 18,
      "outputs": []
    },
    {
      "cell_type": "code",
      "metadata": {
        "colab": {
          "base_uri": "https://localhost:8080/"
        },
        "id": "awY-jIxaW_wt",
        "outputId": "8112f2f0-8ec6-4689-da47-f24475852fd1"
      },
      "source": [
        "# Tests of C function; it is indeed producing the expected output!\n",
        "C(100, 95, .1, .25, .5)"
      ],
      "execution_count": 19,
      "outputs": [
        {
          "output_type": "execute_result",
          "data": {
            "text/plain": [
              "13.7"
            ]
          },
          "metadata": {},
          "execution_count": 19
        }
      ]
    },
    {
      "cell_type": "code",
      "metadata": {
        "id": "yOwFsd-SUIAv"
      },
      "source": [
        "# Notes:\n",
        "# cdf is the probability that the random variable value is less than or equal to x\n",
        "# https://www.graduatetutor.com/statistics-tutor/probability-density-function-pdf-and-cumulative-distribution-function-cdf/"
      ],
      "execution_count": 20,
      "outputs": []
    },
    {
      "cell_type": "markdown",
      "metadata": {
        "id": "4nvUscb3j-bO"
      },
      "source": [
        "### Add call values to the dataframe"
      ]
    },
    {
      "cell_type": "code",
      "metadata": {
        "colab": {
          "base_uri": "https://localhost:8080/"
        },
        "id": "5qA3l-i-GMLz",
        "outputId": "89650b70-8c0c-4062-f18f-764e26abadd2"
      },
      "source": [
        "df.columns"
      ],
      "execution_count": 21,
      "outputs": [
        {
          "output_type": "execute_result",
          "data": {
            "text/plain": [
              "Index(['stock_price', 'exercise_price', 'interest_rate', 'time_to_exp',\n",
              "       'stdev'],\n",
              "      dtype='object')"
            ]
          },
          "metadata": {},
          "execution_count": 21
        }
      ]
    },
    {
      "cell_type": "code",
      "metadata": {
        "id": "sJYOIi8fGMIC"
      },
      "source": [
        "# COMMENTED OUT - ONLY NEED TO RUN ONCE\n",
        "# # Create new column in dataframe for call option value\n",
        "df['call_value'] = df.apply(lambda x: C(x['stock_price'], \n",
        "                x['exercise_price'],\n",
        "                x['interest_rate'],\n",
        "                x['time_to_exp'],\n",
        "                x['stdev']), axis=1)"
      ],
      "execution_count": 22,
      "outputs": []
    },
    {
      "cell_type": "code",
      "metadata": {
        "id": "AsEzJqEvjZ8x"
      },
      "source": [
        "#df.rename(columns={'C': 'call_value'}, inplace=True)"
      ],
      "execution_count": 23,
      "outputs": []
    },
    {
      "cell_type": "code",
      "metadata": {
        "colab": {
          "base_uri": "https://localhost:8080/"
        },
        "id": "Bd5NfhRBfqXe",
        "outputId": "f5ea61d4-9ae6-4be2-b168-3716a78677da"
      },
      "source": [
        "df.shape"
      ],
      "execution_count": 24,
      "outputs": [
        {
          "output_type": "execute_result",
          "data": {
            "text/plain": [
              "(1000, 6)"
            ]
          },
          "metadata": {},
          "execution_count": 24
        }
      ]
    },
    {
      "cell_type": "code",
      "metadata": {
        "colab": {
          "base_uri": "https://localhost:8080/",
          "height": 206
        },
        "id": "AIyelPhJGMFZ",
        "outputId": "c46bcd4c-f97f-4a51-8388-50ce8146a8d2"
      },
      "source": [
        "df.head()"
      ],
      "execution_count": 25,
      "outputs": [
        {
          "output_type": "execute_result",
          "data": {
            "text/html": [
              "<div>\n",
              "<style scoped>\n",
              "    .dataframe tbody tr th:only-of-type {\n",
              "        vertical-align: middle;\n",
              "    }\n",
              "\n",
              "    .dataframe tbody tr th {\n",
              "        vertical-align: top;\n",
              "    }\n",
              "\n",
              "    .dataframe thead th {\n",
              "        text-align: right;\n",
              "    }\n",
              "</style>\n",
              "<table border=\"1\" class=\"dataframe\">\n",
              "  <thead>\n",
              "    <tr style=\"text-align: right;\">\n",
              "      <th></th>\n",
              "      <th>stock_price</th>\n",
              "      <th>exercise_price</th>\n",
              "      <th>interest_rate</th>\n",
              "      <th>time_to_exp</th>\n",
              "      <th>stdev</th>\n",
              "      <th>call_value</th>\n",
              "    </tr>\n",
              "  </thead>\n",
              "  <tbody>\n",
              "    <tr>\n",
              "      <th>0</th>\n",
              "      <td>102.50</td>\n",
              "      <td>88.68</td>\n",
              "      <td>0.1</td>\n",
              "      <td>0.25</td>\n",
              "      <td>0.5</td>\n",
              "      <td>19.48</td>\n",
              "    </tr>\n",
              "    <tr>\n",
              "      <th>1</th>\n",
              "      <td>137.74</td>\n",
              "      <td>86.90</td>\n",
              "      <td>0.1</td>\n",
              "      <td>0.25</td>\n",
              "      <td>0.5</td>\n",
              "      <td>53.26</td>\n",
              "    </tr>\n",
              "    <tr>\n",
              "      <th>2</th>\n",
              "      <td>130.55</td>\n",
              "      <td>98.08</td>\n",
              "      <td>0.1</td>\n",
              "      <td>0.25</td>\n",
              "      <td>0.5</td>\n",
              "      <td>36.33</td>\n",
              "    </tr>\n",
              "    <tr>\n",
              "      <th>3</th>\n",
              "      <td>131.77</td>\n",
              "      <td>85.26</td>\n",
              "      <td>0.1</td>\n",
              "      <td>0.25</td>\n",
              "      <td>0.5</td>\n",
              "      <td>48.95</td>\n",
              "    </tr>\n",
              "    <tr>\n",
              "      <th>4</th>\n",
              "      <td>107.64</td>\n",
              "      <td>89.59</td>\n",
              "      <td>0.1</td>\n",
              "      <td>0.25</td>\n",
              "      <td>0.5</td>\n",
              "      <td>23.00</td>\n",
              "    </tr>\n",
              "  </tbody>\n",
              "</table>\n",
              "</div>"
            ],
            "text/plain": [
              "   stock_price  exercise_price  interest_rate  time_to_exp  stdev  call_value\n",
              "0       102.50           88.68            0.1         0.25    0.5       19.48\n",
              "1       137.74           86.90            0.1         0.25    0.5       53.26\n",
              "2       130.55           98.08            0.1         0.25    0.5       36.33\n",
              "3       131.77           85.26            0.1         0.25    0.5       48.95\n",
              "4       107.64           89.59            0.1         0.25    0.5       23.00"
            ]
          },
          "metadata": {},
          "execution_count": 25
        }
      ]
    },
    {
      "cell_type": "code",
      "metadata": {
        "colab": {
          "base_uri": "https://localhost:8080/"
        },
        "id": "dp2fVX2cGL_r",
        "outputId": "7f06ba0d-3e60-409a-c4a6-ee4c66afbd1f"
      },
      "source": [
        "# Testing to see if the lambda function output matches the C function created earlier\n",
        "C(109.79, 81.79, 0.1, 0.25, 0.5)"
      ],
      "execution_count": 26,
      "outputs": [
        {
          "output_type": "execute_result",
          "data": {
            "text/plain": [
              "31.13"
            ]
          },
          "metadata": {},
          "execution_count": 26
        }
      ]
    },
    {
      "cell_type": "markdown",
      "metadata": {
        "id": "mxKWbxvukSEM"
      },
      "source": [
        "### Normalize"
      ]
    },
    {
      "cell_type": "code",
      "metadata": {
        "colab": {
          "base_uri": "https://localhost:8080/"
        },
        "id": "ODC96H9YqyKV",
        "outputId": "37676269-ac9b-4d95-cdc6-54749ca47370"
      },
      "source": [
        "df.columns"
      ],
      "execution_count": 27,
      "outputs": [
        {
          "output_type": "execute_result",
          "data": {
            "text/plain": [
              "Index(['stock_price', 'exercise_price', 'interest_rate', 'time_to_exp',\n",
              "       'stdev', 'call_value'],\n",
              "      dtype='object')"
            ]
          },
          "metadata": {},
          "execution_count": 27
        }
      ]
    },
    {
      "cell_type": "code",
      "metadata": {
        "colab": {
          "base_uri": "https://localhost:8080/"
        },
        "id": "dPbGUkY1don9",
        "outputId": "010b3138-970d-4b65-a46a-23084aa0c0be"
      },
      "source": [
        "df.columns[0:2]"
      ],
      "execution_count": 28,
      "outputs": [
        {
          "output_type": "execute_result",
          "data": {
            "text/plain": [
              "Index(['stock_price', 'exercise_price'], dtype='object')"
            ]
          },
          "metadata": {},
          "execution_count": 28
        }
      ]
    },
    {
      "cell_type": "code",
      "metadata": {
        "colab": {
          "base_uri": "https://localhost:8080/",
          "height": 0
        },
        "id": "KpL7x1-FVtHo",
        "outputId": "295706a6-35d3-401d-d9e2-5e42fcc41168"
      },
      "source": [
        "df.head()"
      ],
      "execution_count": 29,
      "outputs": [
        {
          "output_type": "execute_result",
          "data": {
            "text/html": [
              "<div>\n",
              "<style scoped>\n",
              "    .dataframe tbody tr th:only-of-type {\n",
              "        vertical-align: middle;\n",
              "    }\n",
              "\n",
              "    .dataframe tbody tr th {\n",
              "        vertical-align: top;\n",
              "    }\n",
              "\n",
              "    .dataframe thead th {\n",
              "        text-align: right;\n",
              "    }\n",
              "</style>\n",
              "<table border=\"1\" class=\"dataframe\">\n",
              "  <thead>\n",
              "    <tr style=\"text-align: right;\">\n",
              "      <th></th>\n",
              "      <th>stock_price</th>\n",
              "      <th>exercise_price</th>\n",
              "      <th>interest_rate</th>\n",
              "      <th>time_to_exp</th>\n",
              "      <th>stdev</th>\n",
              "      <th>call_value</th>\n",
              "    </tr>\n",
              "  </thead>\n",
              "  <tbody>\n",
              "    <tr>\n",
              "      <th>0</th>\n",
              "      <td>102.50</td>\n",
              "      <td>88.68</td>\n",
              "      <td>0.1</td>\n",
              "      <td>0.25</td>\n",
              "      <td>0.5</td>\n",
              "      <td>19.48</td>\n",
              "    </tr>\n",
              "    <tr>\n",
              "      <th>1</th>\n",
              "      <td>137.74</td>\n",
              "      <td>86.90</td>\n",
              "      <td>0.1</td>\n",
              "      <td>0.25</td>\n",
              "      <td>0.5</td>\n",
              "      <td>53.26</td>\n",
              "    </tr>\n",
              "    <tr>\n",
              "      <th>2</th>\n",
              "      <td>130.55</td>\n",
              "      <td>98.08</td>\n",
              "      <td>0.1</td>\n",
              "      <td>0.25</td>\n",
              "      <td>0.5</td>\n",
              "      <td>36.33</td>\n",
              "    </tr>\n",
              "    <tr>\n",
              "      <th>3</th>\n",
              "      <td>131.77</td>\n",
              "      <td>85.26</td>\n",
              "      <td>0.1</td>\n",
              "      <td>0.25</td>\n",
              "      <td>0.5</td>\n",
              "      <td>48.95</td>\n",
              "    </tr>\n",
              "    <tr>\n",
              "      <th>4</th>\n",
              "      <td>107.64</td>\n",
              "      <td>89.59</td>\n",
              "      <td>0.1</td>\n",
              "      <td>0.25</td>\n",
              "      <td>0.5</td>\n",
              "      <td>23.00</td>\n",
              "    </tr>\n",
              "  </tbody>\n",
              "</table>\n",
              "</div>"
            ],
            "text/plain": [
              "   stock_price  exercise_price  interest_rate  time_to_exp  stdev  call_value\n",
              "0       102.50           88.68            0.1         0.25    0.5       19.48\n",
              "1       137.74           86.90            0.1         0.25    0.5       53.26\n",
              "2       130.55           98.08            0.1         0.25    0.5       36.33\n",
              "3       131.77           85.26            0.1         0.25    0.5       48.95\n",
              "4       107.64           89.59            0.1         0.25    0.5       23.00"
            ]
          },
          "metadata": {},
          "execution_count": 29
        }
      ]
    },
    {
      "cell_type": "code",
      "metadata": {
        "colab": {
          "base_uri": "https://localhost:8080/",
          "height": 0
        },
        "id": "6OQcJffjaFwI",
        "outputId": "99f6d999-7786-47d7-ea69-4760d7d1e253"
      },
      "source": [
        "x = df.values[:, 0:2] #returns a numpy array\n",
        "min_max_scaler = MinMaxScaler()\n",
        "x_scaled = min_max_scaler.fit_transform(x)\n",
        "df_spep_normalized = pd.DataFrame(x_scaled, columns=df.columns[0:2])\n",
        "df_spep_normalized.head()"
      ],
      "execution_count": 30,
      "outputs": [
        {
          "output_type": "execute_result",
          "data": {
            "text/html": [
              "<div>\n",
              "<style scoped>\n",
              "    .dataframe tbody tr th:only-of-type {\n",
              "        vertical-align: middle;\n",
              "    }\n",
              "\n",
              "    .dataframe tbody tr th {\n",
              "        vertical-align: top;\n",
              "    }\n",
              "\n",
              "    .dataframe thead th {\n",
              "        text-align: right;\n",
              "    }\n",
              "</style>\n",
              "<table border=\"1\" class=\"dataframe\">\n",
              "  <thead>\n",
              "    <tr style=\"text-align: right;\">\n",
              "      <th></th>\n",
              "      <th>stock_price</th>\n",
              "      <th>exercise_price</th>\n",
              "    </tr>\n",
              "  </thead>\n",
              "  <tbody>\n",
              "    <tr>\n",
              "      <th>0</th>\n",
              "      <td>0.048688</td>\n",
              "      <td>0.433650</td>\n",
              "    </tr>\n",
              "    <tr>\n",
              "      <th>1</th>\n",
              "      <td>0.754759</td>\n",
              "      <td>0.344517</td>\n",
              "    </tr>\n",
              "    <tr>\n",
              "      <th>2</th>\n",
              "      <td>0.610699</td>\n",
              "      <td>0.904357</td>\n",
              "    </tr>\n",
              "    <tr>\n",
              "      <th>3</th>\n",
              "      <td>0.635143</td>\n",
              "      <td>0.262394</td>\n",
              "    </tr>\n",
              "    <tr>\n",
              "      <th>4</th>\n",
              "      <td>0.151673</td>\n",
              "      <td>0.479219</td>\n",
              "    </tr>\n",
              "  </tbody>\n",
              "</table>\n",
              "</div>"
            ],
            "text/plain": [
              "   stock_price  exercise_price\n",
              "0     0.048688        0.433650\n",
              "1     0.754759        0.344517\n",
              "2     0.610699        0.904357\n",
              "3     0.635143        0.262394\n",
              "4     0.151673        0.479219"
            ]
          },
          "metadata": {},
          "execution_count": 30
        }
      ]
    },
    {
      "cell_type": "code",
      "metadata": {
        "colab": {
          "base_uri": "https://localhost:8080/",
          "height": 0
        },
        "id": "aVHJgASpfy3I",
        "outputId": "734c2061-ebc8-49ac-e544-ae947c6e91df"
      },
      "source": [
        "cols = df.columns[2:6]\n",
        "df_cols = df[cols]\n",
        "df_cols.head() "
      ],
      "execution_count": 31,
      "outputs": [
        {
          "output_type": "execute_result",
          "data": {
            "text/html": [
              "<div>\n",
              "<style scoped>\n",
              "    .dataframe tbody tr th:only-of-type {\n",
              "        vertical-align: middle;\n",
              "    }\n",
              "\n",
              "    .dataframe tbody tr th {\n",
              "        vertical-align: top;\n",
              "    }\n",
              "\n",
              "    .dataframe thead th {\n",
              "        text-align: right;\n",
              "    }\n",
              "</style>\n",
              "<table border=\"1\" class=\"dataframe\">\n",
              "  <thead>\n",
              "    <tr style=\"text-align: right;\">\n",
              "      <th></th>\n",
              "      <th>interest_rate</th>\n",
              "      <th>time_to_exp</th>\n",
              "      <th>stdev</th>\n",
              "      <th>call_value</th>\n",
              "    </tr>\n",
              "  </thead>\n",
              "  <tbody>\n",
              "    <tr>\n",
              "      <th>0</th>\n",
              "      <td>0.1</td>\n",
              "      <td>0.25</td>\n",
              "      <td>0.5</td>\n",
              "      <td>19.48</td>\n",
              "    </tr>\n",
              "    <tr>\n",
              "      <th>1</th>\n",
              "      <td>0.1</td>\n",
              "      <td>0.25</td>\n",
              "      <td>0.5</td>\n",
              "      <td>53.26</td>\n",
              "    </tr>\n",
              "    <tr>\n",
              "      <th>2</th>\n",
              "      <td>0.1</td>\n",
              "      <td>0.25</td>\n",
              "      <td>0.5</td>\n",
              "      <td>36.33</td>\n",
              "    </tr>\n",
              "    <tr>\n",
              "      <th>3</th>\n",
              "      <td>0.1</td>\n",
              "      <td>0.25</td>\n",
              "      <td>0.5</td>\n",
              "      <td>48.95</td>\n",
              "    </tr>\n",
              "    <tr>\n",
              "      <th>4</th>\n",
              "      <td>0.1</td>\n",
              "      <td>0.25</td>\n",
              "      <td>0.5</td>\n",
              "      <td>23.00</td>\n",
              "    </tr>\n",
              "  </tbody>\n",
              "</table>\n",
              "</div>"
            ],
            "text/plain": [
              "   interest_rate  time_to_exp  stdev  call_value\n",
              "0            0.1         0.25    0.5       19.48\n",
              "1            0.1         0.25    0.5       53.26\n",
              "2            0.1         0.25    0.5       36.33\n",
              "3            0.1         0.25    0.5       48.95\n",
              "4            0.1         0.25    0.5       23.00"
            ]
          },
          "metadata": {},
          "execution_count": 31
        }
      ]
    },
    {
      "cell_type": "code",
      "metadata": {
        "id": "GtQQcw8Ud8OH"
      },
      "source": [
        "df2 = df_spep_normalized.join(df_cols)"
      ],
      "execution_count": 32,
      "outputs": []
    },
    {
      "cell_type": "code",
      "metadata": {
        "colab": {
          "base_uri": "https://localhost:8080/",
          "height": 0
        },
        "id": "6iHqvdLId79_",
        "outputId": "a32e3778-0a4a-4e2c-c89e-64d29b716dc4"
      },
      "source": [
        "df2.head()"
      ],
      "execution_count": 33,
      "outputs": [
        {
          "output_type": "execute_result",
          "data": {
            "text/html": [
              "<div>\n",
              "<style scoped>\n",
              "    .dataframe tbody tr th:only-of-type {\n",
              "        vertical-align: middle;\n",
              "    }\n",
              "\n",
              "    .dataframe tbody tr th {\n",
              "        vertical-align: top;\n",
              "    }\n",
              "\n",
              "    .dataframe thead th {\n",
              "        text-align: right;\n",
              "    }\n",
              "</style>\n",
              "<table border=\"1\" class=\"dataframe\">\n",
              "  <thead>\n",
              "    <tr style=\"text-align: right;\">\n",
              "      <th></th>\n",
              "      <th>stock_price</th>\n",
              "      <th>exercise_price</th>\n",
              "      <th>interest_rate</th>\n",
              "      <th>time_to_exp</th>\n",
              "      <th>stdev</th>\n",
              "      <th>call_value</th>\n",
              "    </tr>\n",
              "  </thead>\n",
              "  <tbody>\n",
              "    <tr>\n",
              "      <th>0</th>\n",
              "      <td>0.048688</td>\n",
              "      <td>0.433650</td>\n",
              "      <td>0.1</td>\n",
              "      <td>0.25</td>\n",
              "      <td>0.5</td>\n",
              "      <td>19.48</td>\n",
              "    </tr>\n",
              "    <tr>\n",
              "      <th>1</th>\n",
              "      <td>0.754759</td>\n",
              "      <td>0.344517</td>\n",
              "      <td>0.1</td>\n",
              "      <td>0.25</td>\n",
              "      <td>0.5</td>\n",
              "      <td>53.26</td>\n",
              "    </tr>\n",
              "    <tr>\n",
              "      <th>2</th>\n",
              "      <td>0.610699</td>\n",
              "      <td>0.904357</td>\n",
              "      <td>0.1</td>\n",
              "      <td>0.25</td>\n",
              "      <td>0.5</td>\n",
              "      <td>36.33</td>\n",
              "    </tr>\n",
              "    <tr>\n",
              "      <th>3</th>\n",
              "      <td>0.635143</td>\n",
              "      <td>0.262394</td>\n",
              "      <td>0.1</td>\n",
              "      <td>0.25</td>\n",
              "      <td>0.5</td>\n",
              "      <td>48.95</td>\n",
              "    </tr>\n",
              "    <tr>\n",
              "      <th>4</th>\n",
              "      <td>0.151673</td>\n",
              "      <td>0.479219</td>\n",
              "      <td>0.1</td>\n",
              "      <td>0.25</td>\n",
              "      <td>0.5</td>\n",
              "      <td>23.00</td>\n",
              "    </tr>\n",
              "  </tbody>\n",
              "</table>\n",
              "</div>"
            ],
            "text/plain": [
              "   stock_price  exercise_price  interest_rate  time_to_exp  stdev  call_value\n",
              "0     0.048688        0.433650            0.1         0.25    0.5       19.48\n",
              "1     0.754759        0.344517            0.1         0.25    0.5       53.26\n",
              "2     0.610699        0.904357            0.1         0.25    0.5       36.33\n",
              "3     0.635143        0.262394            0.1         0.25    0.5       48.95\n",
              "4     0.151673        0.479219            0.1         0.25    0.5       23.00"
            ]
          },
          "metadata": {},
          "execution_count": 33
        }
      ]
    },
    {
      "cell_type": "code",
      "metadata": {
        "id": "Zd1aI_h8oG79"
      },
      "source": [
        "# Notes\n",
        "# https://stackoverflow.com/questions/26414913/normalize-columns-of-pandas-data-frame\n",
        "# Mean normalization\n",
        "#normalized_df=(df-df.mean())/df.std() \n",
        "# Min-max normalization\n",
        "#normalized_df=(df-df.min())/(df.max()-df.min())"
      ],
      "execution_count": 34,
      "outputs": []
    },
    {
      "cell_type": "markdown",
      "metadata": {
        "id": "ZB2QwaaCiJT3"
      },
      "source": [
        "### Train/test/val split"
      ]
    },
    {
      "cell_type": "code",
      "metadata": {
        "id": "GJR8spOxqo6x"
      },
      "source": [
        "X = df2[['stock_price', 'exercise_price', 'interest_rate', 'time_to_exp', 'stdev']]"
      ],
      "execution_count": 35,
      "outputs": []
    },
    {
      "cell_type": "code",
      "metadata": {
        "colab": {
          "base_uri": "https://localhost:8080/",
          "height": 0
        },
        "id": "DNIZS1qJqorK",
        "outputId": "cb22dca9-30c0-4249-8727-6c8ce13194ef"
      },
      "source": [
        "X.head()"
      ],
      "execution_count": 36,
      "outputs": [
        {
          "output_type": "execute_result",
          "data": {
            "text/html": [
              "<div>\n",
              "<style scoped>\n",
              "    .dataframe tbody tr th:only-of-type {\n",
              "        vertical-align: middle;\n",
              "    }\n",
              "\n",
              "    .dataframe tbody tr th {\n",
              "        vertical-align: top;\n",
              "    }\n",
              "\n",
              "    .dataframe thead th {\n",
              "        text-align: right;\n",
              "    }\n",
              "</style>\n",
              "<table border=\"1\" class=\"dataframe\">\n",
              "  <thead>\n",
              "    <tr style=\"text-align: right;\">\n",
              "      <th></th>\n",
              "      <th>stock_price</th>\n",
              "      <th>exercise_price</th>\n",
              "      <th>interest_rate</th>\n",
              "      <th>time_to_exp</th>\n",
              "      <th>stdev</th>\n",
              "    </tr>\n",
              "  </thead>\n",
              "  <tbody>\n",
              "    <tr>\n",
              "      <th>0</th>\n",
              "      <td>0.048688</td>\n",
              "      <td>0.433650</td>\n",
              "      <td>0.1</td>\n",
              "      <td>0.25</td>\n",
              "      <td>0.5</td>\n",
              "    </tr>\n",
              "    <tr>\n",
              "      <th>1</th>\n",
              "      <td>0.754759</td>\n",
              "      <td>0.344517</td>\n",
              "      <td>0.1</td>\n",
              "      <td>0.25</td>\n",
              "      <td>0.5</td>\n",
              "    </tr>\n",
              "    <tr>\n",
              "      <th>2</th>\n",
              "      <td>0.610699</td>\n",
              "      <td>0.904357</td>\n",
              "      <td>0.1</td>\n",
              "      <td>0.25</td>\n",
              "      <td>0.5</td>\n",
              "    </tr>\n",
              "    <tr>\n",
              "      <th>3</th>\n",
              "      <td>0.635143</td>\n",
              "      <td>0.262394</td>\n",
              "      <td>0.1</td>\n",
              "      <td>0.25</td>\n",
              "      <td>0.5</td>\n",
              "    </tr>\n",
              "    <tr>\n",
              "      <th>4</th>\n",
              "      <td>0.151673</td>\n",
              "      <td>0.479219</td>\n",
              "      <td>0.1</td>\n",
              "      <td>0.25</td>\n",
              "      <td>0.5</td>\n",
              "    </tr>\n",
              "  </tbody>\n",
              "</table>\n",
              "</div>"
            ],
            "text/plain": [
              "   stock_price  exercise_price  interest_rate  time_to_exp  stdev\n",
              "0     0.048688        0.433650            0.1         0.25    0.5\n",
              "1     0.754759        0.344517            0.1         0.25    0.5\n",
              "2     0.610699        0.904357            0.1         0.25    0.5\n",
              "3     0.635143        0.262394            0.1         0.25    0.5\n",
              "4     0.151673        0.479219            0.1         0.25    0.5"
            ]
          },
          "metadata": {},
          "execution_count": 36
        }
      ]
    },
    {
      "cell_type": "code",
      "metadata": {
        "id": "Xu-BQJ-VrFVn"
      },
      "source": [
        "y = df2[['call_value']]"
      ],
      "execution_count": 37,
      "outputs": []
    },
    {
      "cell_type": "code",
      "metadata": {
        "colab": {
          "base_uri": "https://localhost:8080/",
          "height": 0
        },
        "id": "AqhhEohrrOxR",
        "outputId": "3ccf84c8-38c1-475a-f69d-ad094730f065"
      },
      "source": [
        "y.head()"
      ],
      "execution_count": 38,
      "outputs": [
        {
          "output_type": "execute_result",
          "data": {
            "text/html": [
              "<div>\n",
              "<style scoped>\n",
              "    .dataframe tbody tr th:only-of-type {\n",
              "        vertical-align: middle;\n",
              "    }\n",
              "\n",
              "    .dataframe tbody tr th {\n",
              "        vertical-align: top;\n",
              "    }\n",
              "\n",
              "    .dataframe thead th {\n",
              "        text-align: right;\n",
              "    }\n",
              "</style>\n",
              "<table border=\"1\" class=\"dataframe\">\n",
              "  <thead>\n",
              "    <tr style=\"text-align: right;\">\n",
              "      <th></th>\n",
              "      <th>call_value</th>\n",
              "    </tr>\n",
              "  </thead>\n",
              "  <tbody>\n",
              "    <tr>\n",
              "      <th>0</th>\n",
              "      <td>19.48</td>\n",
              "    </tr>\n",
              "    <tr>\n",
              "      <th>1</th>\n",
              "      <td>53.26</td>\n",
              "    </tr>\n",
              "    <tr>\n",
              "      <th>2</th>\n",
              "      <td>36.33</td>\n",
              "    </tr>\n",
              "    <tr>\n",
              "      <th>3</th>\n",
              "      <td>48.95</td>\n",
              "    </tr>\n",
              "    <tr>\n",
              "      <th>4</th>\n",
              "      <td>23.00</td>\n",
              "    </tr>\n",
              "  </tbody>\n",
              "</table>\n",
              "</div>"
            ],
            "text/plain": [
              "   call_value\n",
              "0       19.48\n",
              "1       53.26\n",
              "2       36.33\n",
              "3       48.95\n",
              "4       23.00"
            ]
          },
          "metadata": {},
          "execution_count": 38
        }
      ]
    },
    {
      "cell_type": "code",
      "metadata": {
        "id": "gnN1Rmq4kRkb"
      },
      "source": [
        "X_train, X_remaining, y_train, y_remaining = train_test_split(X, y, train_size=0.8)"
      ],
      "execution_count": 39,
      "outputs": []
    },
    {
      "cell_type": "code",
      "metadata": {
        "id": "Wkgjm5cvmIfB"
      },
      "source": [
        "X_val, X_test, y_val, y_test = train_test_split(X_remaining, y_remaining, test_size=0.5)"
      ],
      "execution_count": 40,
      "outputs": []
    },
    {
      "cell_type": "code",
      "metadata": {
        "colab": {
          "base_uri": "https://localhost:8080/"
        },
        "id": "6mtdlEuFm4J-",
        "outputId": "6dd484be-0c9c-4353-ba10-1c0b2409f0fd"
      },
      "source": [
        "print(X_train.shape, y_train.shape)\n",
        "print(X_val.shape, y_val.shape)\n",
        "print(X_test.shape, y_test.shape)"
      ],
      "execution_count": 41,
      "outputs": [
        {
          "output_type": "stream",
          "name": "stdout",
          "text": [
            "(800, 5) (800, 1)\n",
            "(100, 5) (100, 1)\n",
            "(100, 5) (100, 1)\n"
          ]
        }
      ]
    },
    {
      "cell_type": "markdown",
      "metadata": {
        "id": "aq-wEXaifwgJ"
      },
      "source": [
        "### Reshaping to work with Keras models"
      ]
    },
    {
      "cell_type": "code",
      "metadata": {
        "id": "NfIZ5fiquaM1"
      },
      "source": [
        "X_train_nparray, y_train_nparray = X_train.to_numpy(), y_train.to_numpy()"
      ],
      "execution_count": 42,
      "outputs": []
    },
    {
      "cell_type": "code",
      "metadata": {
        "colab": {
          "base_uri": "https://localhost:8080/"
        },
        "id": "LwEV2quPuaIy",
        "outputId": "198d1a57-4db7-444f-94c4-84c3874aedf9"
      },
      "source": [
        "X_train_2 = np.reshape(X_train_nparray, (X_train_nparray.shape[0], X_train_nparray.shape[1], 1))\n",
        "X_train_2.shape"
      ],
      "execution_count": 43,
      "outputs": [
        {
          "output_type": "execute_result",
          "data": {
            "text/plain": [
              "(800, 5, 1)"
            ]
          },
          "metadata": {},
          "execution_count": 43
        }
      ]
    },
    {
      "cell_type": "code",
      "metadata": {
        "id": "TmM74x0mwZ_m"
      },
      "source": [
        "X_test_nparray, y_test_nparray = X_test.to_numpy(), y_test.to_numpy()"
      ],
      "execution_count": 44,
      "outputs": []
    },
    {
      "cell_type": "code",
      "metadata": {
        "colab": {
          "base_uri": "https://localhost:8080/"
        },
        "id": "nXbN28q6wZst",
        "outputId": "674d91b9-0838-40f9-82ef-032430f584cd"
      },
      "source": [
        "X_test_2 = np.reshape(X_test_nparray, (X_test_nparray.shape[0], X_test_nparray.shape[1], 1))\n",
        "X_test_2.shape"
      ],
      "execution_count": 45,
      "outputs": [
        {
          "output_type": "execute_result",
          "data": {
            "text/plain": [
              "(100, 5, 1)"
            ]
          },
          "metadata": {},
          "execution_count": 45
        }
      ]
    },
    {
      "cell_type": "code",
      "metadata": {
        "id": "GQ2w4W0o27w-"
      },
      "source": [
        "X_val_nparray, y_val_nparray = X_val.to_numpy(), y_val.to_numpy()"
      ],
      "execution_count": 46,
      "outputs": []
    },
    {
      "cell_type": "code",
      "metadata": {
        "colab": {
          "base_uri": "https://localhost:8080/"
        },
        "id": "RiUs3BGM27fQ",
        "outputId": "e0cc816f-3872-47bf-9c8b-e571fc734391"
      },
      "source": [
        "X_val_2 = np.reshape(X_val_nparray, (X_val_nparray.shape[0], X_val_nparray.shape[1], 1))\n",
        "X_val_2.shape"
      ],
      "execution_count": 47,
      "outputs": [
        {
          "output_type": "execute_result",
          "data": {
            "text/plain": [
              "(100, 5, 1)"
            ]
          },
          "metadata": {},
          "execution_count": 47
        }
      ]
    },
    {
      "cell_type": "code",
      "metadata": {
        "id": "sOueR80vyL5F"
      },
      "source": [
        "Xtrain = X_train_2\n",
        "Xval = X_val_2\n",
        "ytrain = y_train_nparray"
      ],
      "execution_count": 48,
      "outputs": []
    },
    {
      "cell_type": "code",
      "metadata": {
        "colab": {
          "base_uri": "https://localhost:8080/"
        },
        "id": "EVlMB2sTy2iy",
        "outputId": "660db54a-2bb8-4565-bf52-442b42a6a422"
      },
      "source": [
        "print(Xtrain.shape)\n",
        "print(Xval.shape)\n",
        "print(ytrain.shape)"
      ],
      "execution_count": 49,
      "outputs": [
        {
          "output_type": "stream",
          "name": "stdout",
          "text": [
            "(800, 5, 1)\n",
            "(100, 5, 1)\n",
            "(800, 1)\n"
          ]
        }
      ]
    },
    {
      "cell_type": "markdown",
      "metadata": {
        "id": "kp319H7ztPhg"
      },
      "source": [
        "### Neural network model"
      ]
    },
    {
      "cell_type": "code",
      "metadata": {
        "id": "qaS9J_-MaR_k"
      },
      "source": [
        "# 5 neurons representing 5 features; 1 output layer to predict call option value\n",
        "model = Sequential()\n",
        "model.add(Dense(5,activation='relu'))\n",
        "model.add(Dense(5,activation='relu'))\n",
        "model.add(Dense(5,activation='relu'))\n",
        "model.add(Dense(5,activation='relu'))\n",
        "model.add(Dense(1))"
      ],
      "execution_count": null,
      "outputs": []
    },
    {
      "cell_type": "code",
      "metadata": {
        "id": "U3Cya7SqwPYx"
      },
      "source": [
        "initial_learning_rate=1e-4\n",
        "lr_schedule = tf.keras.optimizers.schedules.ExponentialDecay(\n",
        "    initial_learning_rate,\n",
        "    decay_steps=100000, \n",
        "    decay_rate=0.96,\n",
        "    staircase=True\n",
        ")"
      ],
      "execution_count": null,
      "outputs": []
    },
    {
      "cell_type": "code",
      "metadata": {
        "id": "m1BGeWUqt5qA"
      },
      "source": [
        "model.compile(optimizer=tf.keras.optimizers.Adam(learning_rate=lr_schedule),\n",
        "              loss='mean_squared_error')"
      ],
      "execution_count": null,
      "outputs": []
    },
    {
      "cell_type": "code",
      "metadata": {
        "colab": {
          "base_uri": "https://localhost:8080/"
        },
        "id": "Sgz92fftaRzp",
        "outputId": "a80cde64-f2cf-482f-88e8-bb57e92349c1"
      },
      "source": [
        "history = model.fit(\n",
        "    x=X_train,\n",
        "    y=y_train,\n",
        "    validation_data=(X_val, y_val),\n",
        "    batch_size = 2,\n",
        "    epochs = 500,\n",
        "    verbose=1\n",
        ")"
      ],
      "execution_count": null,
      "outputs": [
        {
          "output_type": "stream",
          "name": "stdout",
          "text": [
            "Epoch 1/500\n",
            "400/400 [==============================] - 1s 2ms/step - loss: 0.0365 - val_loss: 0.0350\n",
            "Epoch 2/500\n",
            "400/400 [==============================] - 1s 2ms/step - loss: 0.0364 - val_loss: 0.0367\n",
            "Epoch 3/500\n",
            "400/400 [==============================] - 1s 2ms/step - loss: 0.0352 - val_loss: 0.0347\n",
            "Epoch 4/500\n",
            "400/400 [==============================] - 1s 2ms/step - loss: 0.0355 - val_loss: 0.0356\n",
            "Epoch 5/500\n",
            "400/400 [==============================] - 1s 2ms/step - loss: 0.0356 - val_loss: 0.0362\n",
            "Epoch 6/500\n",
            "400/400 [==============================] - 1s 2ms/step - loss: 0.0364 - val_loss: 0.0414\n",
            "Epoch 7/500\n",
            "400/400 [==============================] - 1s 2ms/step - loss: 0.0356 - val_loss: 0.0356\n",
            "Epoch 8/500\n",
            "400/400 [==============================] - 1s 2ms/step - loss: 0.0359 - val_loss: 0.0367\n",
            "Epoch 9/500\n",
            "400/400 [==============================] - 1s 2ms/step - loss: 0.0360 - val_loss: 0.0356\n",
            "Epoch 10/500\n",
            "400/400 [==============================] - 1s 2ms/step - loss: 0.0355 - val_loss: 0.0356\n",
            "Epoch 11/500\n",
            "400/400 [==============================] - 1s 2ms/step - loss: 0.0361 - val_loss: 0.0365\n",
            "Epoch 12/500\n",
            "400/400 [==============================] - 1s 2ms/step - loss: 0.0361 - val_loss: 0.0373\n",
            "Epoch 13/500\n",
            "400/400 [==============================] - 1s 2ms/step - loss: 0.0360 - val_loss: 0.0370\n",
            "Epoch 14/500\n",
            "400/400 [==============================] - 1s 2ms/step - loss: 0.0365 - val_loss: 0.0379\n",
            "Epoch 15/500\n",
            "400/400 [==============================] - 1s 2ms/step - loss: 0.0358 - val_loss: 0.0367\n",
            "Epoch 16/500\n",
            "400/400 [==============================] - 1s 2ms/step - loss: 0.0356 - val_loss: 0.0380\n",
            "Epoch 17/500\n",
            "400/400 [==============================] - 1s 2ms/step - loss: 0.0355 - val_loss: 0.0360\n",
            "Epoch 18/500\n",
            "400/400 [==============================] - 1s 2ms/step - loss: 0.0354 - val_loss: 0.0376\n",
            "Epoch 19/500\n",
            "400/400 [==============================] - 1s 2ms/step - loss: 0.0357 - val_loss: 0.0368\n",
            "Epoch 20/500\n",
            "400/400 [==============================] - 1s 2ms/step - loss: 0.0357 - val_loss: 0.0419\n",
            "Epoch 21/500\n",
            "400/400 [==============================] - 1s 2ms/step - loss: 0.0358 - val_loss: 0.0372\n",
            "Epoch 22/500\n",
            "400/400 [==============================] - 1s 2ms/step - loss: 0.0356 - val_loss: 0.0373\n",
            "Epoch 23/500\n",
            "400/400 [==============================] - 1s 2ms/step - loss: 0.0353 - val_loss: 0.0364\n",
            "Epoch 24/500\n",
            "400/400 [==============================] - 1s 2ms/step - loss: 0.0356 - val_loss: 0.0389\n",
            "Epoch 25/500\n",
            "400/400 [==============================] - 1s 2ms/step - loss: 0.0352 - val_loss: 0.0377\n",
            "Epoch 26/500\n",
            "400/400 [==============================] - 1s 2ms/step - loss: 0.0352 - val_loss: 0.0354\n",
            "Epoch 27/500\n",
            "400/400 [==============================] - 1s 2ms/step - loss: 0.0350 - val_loss: 0.0389\n",
            "Epoch 28/500\n",
            "400/400 [==============================] - 1s 2ms/step - loss: 0.0357 - val_loss: 0.0356\n",
            "Epoch 29/500\n",
            "400/400 [==============================] - 1s 2ms/step - loss: 0.0353 - val_loss: 0.0349\n",
            "Epoch 30/500\n",
            "400/400 [==============================] - 1s 2ms/step - loss: 0.0352 - val_loss: 0.0398\n",
            "Epoch 31/500\n",
            "400/400 [==============================] - 1s 2ms/step - loss: 0.0357 - val_loss: 0.0358\n",
            "Epoch 32/500\n",
            "400/400 [==============================] - 1s 2ms/step - loss: 0.0356 - val_loss: 0.0363\n",
            "Epoch 33/500\n",
            "400/400 [==============================] - 1s 2ms/step - loss: 0.0362 - val_loss: 0.0370\n",
            "Epoch 34/500\n",
            "400/400 [==============================] - 1s 2ms/step - loss: 0.0356 - val_loss: 0.0354\n",
            "Epoch 35/500\n",
            "400/400 [==============================] - 1s 2ms/step - loss: 0.0362 - val_loss: 0.0352\n",
            "Epoch 36/500\n",
            "400/400 [==============================] - 1s 2ms/step - loss: 0.0354 - val_loss: 0.0350\n",
            "Epoch 37/500\n",
            "400/400 [==============================] - 1s 2ms/step - loss: 0.0350 - val_loss: 0.0354\n",
            "Epoch 38/500\n",
            "400/400 [==============================] - 1s 2ms/step - loss: 0.0359 - val_loss: 0.0366\n",
            "Epoch 39/500\n",
            "400/400 [==============================] - 1s 2ms/step - loss: 0.0357 - val_loss: 0.0372\n",
            "Epoch 40/500\n",
            "400/400 [==============================] - 1s 2ms/step - loss: 0.0356 - val_loss: 0.0394\n",
            "Epoch 41/500\n",
            "400/400 [==============================] - 1s 2ms/step - loss: 0.0354 - val_loss: 0.0422\n",
            "Epoch 42/500\n",
            "400/400 [==============================] - 1s 2ms/step - loss: 0.0357 - val_loss: 0.0366\n",
            "Epoch 43/500\n",
            "400/400 [==============================] - 1s 2ms/step - loss: 0.0361 - val_loss: 0.0360\n",
            "Epoch 44/500\n",
            "400/400 [==============================] - 1s 2ms/step - loss: 0.0354 - val_loss: 0.0355\n",
            "Epoch 45/500\n",
            "400/400 [==============================] - 1s 2ms/step - loss: 0.0354 - val_loss: 0.0350\n",
            "Epoch 46/500\n",
            "400/400 [==============================] - 1s 2ms/step - loss: 0.0355 - val_loss: 0.0365\n",
            "Epoch 47/500\n",
            "400/400 [==============================] - 1s 2ms/step - loss: 0.0360 - val_loss: 0.0371\n",
            "Epoch 48/500\n",
            "400/400 [==============================] - 1s 2ms/step - loss: 0.0350 - val_loss: 0.0365\n",
            "Epoch 49/500\n",
            "400/400 [==============================] - 1s 2ms/step - loss: 0.0359 - val_loss: 0.0365\n",
            "Epoch 50/500\n",
            "400/400 [==============================] - 1s 2ms/step - loss: 0.0356 - val_loss: 0.0349\n",
            "Epoch 51/500\n",
            "400/400 [==============================] - 1s 2ms/step - loss: 0.0357 - val_loss: 0.0359\n",
            "Epoch 52/500\n",
            "400/400 [==============================] - 1s 2ms/step - loss: 0.0352 - val_loss: 0.0355\n",
            "Epoch 53/500\n",
            "400/400 [==============================] - 1s 2ms/step - loss: 0.0358 - val_loss: 0.0347\n",
            "Epoch 54/500\n",
            "400/400 [==============================] - 1s 2ms/step - loss: 0.0357 - val_loss: 0.0433\n",
            "Epoch 55/500\n",
            "400/400 [==============================] - 1s 2ms/step - loss: 0.0359 - val_loss: 0.0345\n",
            "Epoch 56/500\n",
            "400/400 [==============================] - 1s 2ms/step - loss: 0.0349 - val_loss: 0.0422\n",
            "Epoch 57/500\n",
            "400/400 [==============================] - 1s 2ms/step - loss: 0.0355 - val_loss: 0.0416\n",
            "Epoch 58/500\n",
            "400/400 [==============================] - 1s 2ms/step - loss: 0.0354 - val_loss: 0.0361\n",
            "Epoch 59/500\n",
            "400/400 [==============================] - 1s 2ms/step - loss: 0.0358 - val_loss: 0.0349\n",
            "Epoch 60/500\n",
            "400/400 [==============================] - 1s 2ms/step - loss: 0.0358 - val_loss: 0.0421\n",
            "Epoch 61/500\n",
            "400/400 [==============================] - 1s 2ms/step - loss: 0.0355 - val_loss: 0.0367\n",
            "Epoch 62/500\n",
            "400/400 [==============================] - 1s 2ms/step - loss: 0.0353 - val_loss: 0.0354\n",
            "Epoch 63/500\n",
            "400/400 [==============================] - 1s 2ms/step - loss: 0.0346 - val_loss: 0.0365\n",
            "Epoch 64/500\n",
            "400/400 [==============================] - 1s 2ms/step - loss: 0.0354 - val_loss: 0.0368\n",
            "Epoch 65/500\n",
            "400/400 [==============================] - 1s 2ms/step - loss: 0.0363 - val_loss: 0.0354\n",
            "Epoch 66/500\n",
            "400/400 [==============================] - 1s 2ms/step - loss: 0.0357 - val_loss: 0.0489\n",
            "Epoch 67/500\n",
            "400/400 [==============================] - 1s 2ms/step - loss: 0.0358 - val_loss: 0.0347\n",
            "Epoch 68/500\n",
            "400/400 [==============================] - 1s 2ms/step - loss: 0.0358 - val_loss: 0.0355\n",
            "Epoch 69/500\n",
            "400/400 [==============================] - 1s 2ms/step - loss: 0.0354 - val_loss: 0.0348\n",
            "Epoch 70/500\n",
            "400/400 [==============================] - 1s 1ms/step - loss: 0.0359 - val_loss: 0.0356\n",
            "Epoch 71/500\n",
            "400/400 [==============================] - 1s 2ms/step - loss: 0.0358 - val_loss: 0.0359\n",
            "Epoch 72/500\n",
            "400/400 [==============================] - 1s 2ms/step - loss: 0.0352 - val_loss: 0.0356\n",
            "Epoch 73/500\n",
            "400/400 [==============================] - 1s 2ms/step - loss: 0.0361 - val_loss: 0.0384\n",
            "Epoch 74/500\n",
            "400/400 [==============================] - 1s 2ms/step - loss: 0.0352 - val_loss: 0.0368\n",
            "Epoch 75/500\n",
            "400/400 [==============================] - 1s 2ms/step - loss: 0.0353 - val_loss: 0.0399\n",
            "Epoch 76/500\n",
            "400/400 [==============================] - 1s 2ms/step - loss: 0.0355 - val_loss: 0.0354\n",
            "Epoch 77/500\n",
            "400/400 [==============================] - 1s 2ms/step - loss: 0.0357 - val_loss: 0.0382\n",
            "Epoch 78/500\n",
            "400/400 [==============================] - 1s 2ms/step - loss: 0.0358 - val_loss: 0.0364\n",
            "Epoch 79/500\n",
            "400/400 [==============================] - 1s 2ms/step - loss: 0.0351 - val_loss: 0.0351\n",
            "Epoch 80/500\n",
            "400/400 [==============================] - 1s 2ms/step - loss: 0.0346 - val_loss: 0.0382\n",
            "Epoch 81/500\n",
            "400/400 [==============================] - 1s 2ms/step - loss: 0.0359 - val_loss: 0.0382\n",
            "Epoch 82/500\n",
            "400/400 [==============================] - 1s 2ms/step - loss: 0.0359 - val_loss: 0.0355\n",
            "Epoch 83/500\n",
            "400/400 [==============================] - 1s 2ms/step - loss: 0.0354 - val_loss: 0.0348\n",
            "Epoch 84/500\n",
            "400/400 [==============================] - 1s 2ms/step - loss: 0.0360 - val_loss: 0.0354\n",
            "Epoch 85/500\n",
            "400/400 [==============================] - 1s 2ms/step - loss: 0.0352 - val_loss: 0.0360\n",
            "Epoch 86/500\n",
            "400/400 [==============================] - 1s 2ms/step - loss: 0.0357 - val_loss: 0.0357\n",
            "Epoch 87/500\n",
            "400/400 [==============================] - 1s 2ms/step - loss: 0.0354 - val_loss: 0.0362\n",
            "Epoch 88/500\n",
            "400/400 [==============================] - 1s 2ms/step - loss: 0.0348 - val_loss: 0.0353\n",
            "Epoch 89/500\n",
            "400/400 [==============================] - 1s 2ms/step - loss: 0.0357 - val_loss: 0.0351\n",
            "Epoch 90/500\n",
            "400/400 [==============================] - 1s 2ms/step - loss: 0.0352 - val_loss: 0.0350\n",
            "Epoch 91/500\n",
            "400/400 [==============================] - 1s 2ms/step - loss: 0.0354 - val_loss: 0.0358\n",
            "Epoch 92/500\n",
            "400/400 [==============================] - 1s 2ms/step - loss: 0.0356 - val_loss: 0.0392\n",
            "Epoch 93/500\n",
            "400/400 [==============================] - 1s 2ms/step - loss: 0.0354 - val_loss: 0.0368\n",
            "Epoch 94/500\n",
            "400/400 [==============================] - 1s 2ms/step - loss: 0.0352 - val_loss: 0.0347\n",
            "Epoch 95/500\n",
            "400/400 [==============================] - 1s 2ms/step - loss: 0.0355 - val_loss: 0.0364\n",
            "Epoch 96/500\n",
            "400/400 [==============================] - 1s 2ms/step - loss: 0.0355 - val_loss: 0.0362\n",
            "Epoch 97/500\n",
            "400/400 [==============================] - 1s 2ms/step - loss: 0.0361 - val_loss: 0.0369\n",
            "Epoch 98/500\n",
            "400/400 [==============================] - 1s 2ms/step - loss: 0.0355 - val_loss: 0.0379\n",
            "Epoch 99/500\n",
            "400/400 [==============================] - 1s 2ms/step - loss: 0.0358 - val_loss: 0.0350\n",
            "Epoch 100/500\n",
            "400/400 [==============================] - 1s 2ms/step - loss: 0.0356 - val_loss: 0.0356\n",
            "Epoch 101/500\n",
            "400/400 [==============================] - 1s 2ms/step - loss: 0.0354 - val_loss: 0.0372\n",
            "Epoch 102/500\n",
            "400/400 [==============================] - 1s 2ms/step - loss: 0.0354 - val_loss: 0.0354\n",
            "Epoch 103/500\n",
            "400/400 [==============================] - 1s 2ms/step - loss: 0.0362 - val_loss: 0.0357\n",
            "Epoch 104/500\n",
            "400/400 [==============================] - 1s 2ms/step - loss: 0.0363 - val_loss: 0.0354\n",
            "Epoch 105/500\n",
            "400/400 [==============================] - 1s 2ms/step - loss: 0.0356 - val_loss: 0.0369\n",
            "Epoch 106/500\n",
            "400/400 [==============================] - 1s 2ms/step - loss: 0.0355 - val_loss: 0.0350\n",
            "Epoch 107/500\n",
            "400/400 [==============================] - 1s 2ms/step - loss: 0.0353 - val_loss: 0.0356\n",
            "Epoch 108/500\n",
            "400/400 [==============================] - 1s 2ms/step - loss: 0.0354 - val_loss: 0.0355\n",
            "Epoch 109/500\n",
            "400/400 [==============================] - 1s 2ms/step - loss: 0.0357 - val_loss: 0.0362\n",
            "Epoch 110/500\n",
            "400/400 [==============================] - 1s 2ms/step - loss: 0.0356 - val_loss: 0.0354\n",
            "Epoch 111/500\n",
            "400/400 [==============================] - 1s 2ms/step - loss: 0.0351 - val_loss: 0.0352\n",
            "Epoch 112/500\n",
            "400/400 [==============================] - 1s 2ms/step - loss: 0.0357 - val_loss: 0.0348\n",
            "Epoch 113/500\n",
            "400/400 [==============================] - 1s 2ms/step - loss: 0.0360 - val_loss: 0.0352\n",
            "Epoch 114/500\n",
            "400/400 [==============================] - 1s 2ms/step - loss: 0.0355 - val_loss: 0.0386\n",
            "Epoch 115/500\n",
            "400/400 [==============================] - 1s 2ms/step - loss: 0.0357 - val_loss: 0.0361\n",
            "Epoch 116/500\n",
            "400/400 [==============================] - 1s 2ms/step - loss: 0.0348 - val_loss: 0.0416\n",
            "Epoch 117/500\n",
            "400/400 [==============================] - 1s 2ms/step - loss: 0.0360 - val_loss: 0.0396\n",
            "Epoch 118/500\n",
            "400/400 [==============================] - 1s 2ms/step - loss: 0.0354 - val_loss: 0.0357\n",
            "Epoch 119/500\n",
            "400/400 [==============================] - 1s 2ms/step - loss: 0.0355 - val_loss: 0.0351\n",
            "Epoch 120/500\n",
            "400/400 [==============================] - 1s 2ms/step - loss: 0.0357 - val_loss: 0.0365\n",
            "Epoch 121/500\n",
            "400/400 [==============================] - 1s 2ms/step - loss: 0.0356 - val_loss: 0.0360\n",
            "Epoch 122/500\n",
            "400/400 [==============================] - 1s 2ms/step - loss: 0.0358 - val_loss: 0.0384\n",
            "Epoch 123/500\n",
            "400/400 [==============================] - 1s 2ms/step - loss: 0.0351 - val_loss: 0.0363\n",
            "Epoch 124/500\n",
            "400/400 [==============================] - 1s 2ms/step - loss: 0.0358 - val_loss: 0.0352\n",
            "Epoch 125/500\n",
            "400/400 [==============================] - 1s 2ms/step - loss: 0.0351 - val_loss: 0.0371\n",
            "Epoch 126/500\n",
            "400/400 [==============================] - 1s 2ms/step - loss: 0.0360 - val_loss: 0.0370\n",
            "Epoch 127/500\n",
            "400/400 [==============================] - 1s 2ms/step - loss: 0.0353 - val_loss: 0.0405\n",
            "Epoch 128/500\n",
            "400/400 [==============================] - 1s 2ms/step - loss: 0.0352 - val_loss: 0.0349\n",
            "Epoch 129/500\n",
            "400/400 [==============================] - 1s 2ms/step - loss: 0.0360 - val_loss: 0.0362\n",
            "Epoch 130/500\n",
            "400/400 [==============================] - 1s 2ms/step - loss: 0.0351 - val_loss: 0.0360\n",
            "Epoch 131/500\n",
            "400/400 [==============================] - 1s 2ms/step - loss: 0.0359 - val_loss: 0.0423\n",
            "Epoch 132/500\n",
            "400/400 [==============================] - 1s 2ms/step - loss: 0.0359 - val_loss: 0.0364\n",
            "Epoch 133/500\n",
            "400/400 [==============================] - 1s 2ms/step - loss: 0.0358 - val_loss: 0.0355\n",
            "Epoch 134/500\n",
            "400/400 [==============================] - 1s 2ms/step - loss: 0.0357 - val_loss: 0.0370\n",
            "Epoch 135/500\n",
            "400/400 [==============================] - 1s 2ms/step - loss: 0.0353 - val_loss: 0.0352\n",
            "Epoch 136/500\n",
            "400/400 [==============================] - 1s 2ms/step - loss: 0.0353 - val_loss: 0.0355\n",
            "Epoch 137/500\n",
            "400/400 [==============================] - 1s 2ms/step - loss: 0.0358 - val_loss: 0.0420\n",
            "Epoch 138/500\n",
            "400/400 [==============================] - 1s 2ms/step - loss: 0.0359 - val_loss: 0.0371\n",
            "Epoch 139/500\n",
            "400/400 [==============================] - 1s 2ms/step - loss: 0.0356 - val_loss: 0.0365\n",
            "Epoch 140/500\n",
            "400/400 [==============================] - 1s 2ms/step - loss: 0.0356 - val_loss: 0.0354\n",
            "Epoch 141/500\n",
            "400/400 [==============================] - 1s 2ms/step - loss: 0.0353 - val_loss: 0.0367\n",
            "Epoch 142/500\n",
            "400/400 [==============================] - 1s 2ms/step - loss: 0.0352 - val_loss: 0.0364\n",
            "Epoch 143/500\n",
            "400/400 [==============================] - 1s 2ms/step - loss: 0.0354 - val_loss: 0.0426\n",
            "Epoch 144/500\n",
            "400/400 [==============================] - 1s 2ms/step - loss: 0.0358 - val_loss: 0.0372\n",
            "Epoch 145/500\n",
            "400/400 [==============================] - 1s 2ms/step - loss: 0.0356 - val_loss: 0.0348\n",
            "Epoch 146/500\n",
            "400/400 [==============================] - 1s 2ms/step - loss: 0.0357 - val_loss: 0.0353\n",
            "Epoch 147/500\n",
            "400/400 [==============================] - 1s 2ms/step - loss: 0.0353 - val_loss: 0.0388\n",
            "Epoch 148/500\n",
            "400/400 [==============================] - 1s 2ms/step - loss: 0.0353 - val_loss: 0.0370\n",
            "Epoch 149/500\n",
            "400/400 [==============================] - 1s 2ms/step - loss: 0.0358 - val_loss: 0.0368\n",
            "Epoch 150/500\n",
            "400/400 [==============================] - 1s 2ms/step - loss: 0.0348 - val_loss: 0.0408\n",
            "Epoch 151/500\n",
            "400/400 [==============================] - 1s 2ms/step - loss: 0.0355 - val_loss: 0.0352\n",
            "Epoch 152/500\n",
            "400/400 [==============================] - 1s 2ms/step - loss: 0.0355 - val_loss: 0.0426\n",
            "Epoch 153/500\n",
            "400/400 [==============================] - 1s 2ms/step - loss: 0.0357 - val_loss: 0.0353\n",
            "Epoch 154/500\n",
            "400/400 [==============================] - 1s 2ms/step - loss: 0.0354 - val_loss: 0.0376\n",
            "Epoch 155/500\n",
            "400/400 [==============================] - 1s 2ms/step - loss: 0.0355 - val_loss: 0.0532\n",
            "Epoch 156/500\n",
            "400/400 [==============================] - 1s 2ms/step - loss: 0.0357 - val_loss: 0.0352\n",
            "Epoch 157/500\n",
            "400/400 [==============================] - 1s 2ms/step - loss: 0.0355 - val_loss: 0.0352\n",
            "Epoch 158/500\n",
            "400/400 [==============================] - 1s 2ms/step - loss: 0.0358 - val_loss: 0.0356\n",
            "Epoch 159/500\n",
            "400/400 [==============================] - 1s 2ms/step - loss: 0.0361 - val_loss: 0.0357\n",
            "Epoch 160/500\n",
            "400/400 [==============================] - 1s 2ms/step - loss: 0.0355 - val_loss: 0.0358\n",
            "Epoch 161/500\n",
            "400/400 [==============================] - 1s 2ms/step - loss: 0.0350 - val_loss: 0.0350\n",
            "Epoch 162/500\n",
            "400/400 [==============================] - 1s 2ms/step - loss: 0.0353 - val_loss: 0.0353\n",
            "Epoch 163/500\n",
            "400/400 [==============================] - 1s 2ms/step - loss: 0.0351 - val_loss: 0.0353\n",
            "Epoch 164/500\n",
            "400/400 [==============================] - 1s 2ms/step - loss: 0.0350 - val_loss: 0.0348\n",
            "Epoch 165/500\n",
            "400/400 [==============================] - 1s 2ms/step - loss: 0.0354 - val_loss: 0.0371\n",
            "Epoch 166/500\n",
            "400/400 [==============================] - 1s 2ms/step - loss: 0.0354 - val_loss: 0.0364\n",
            "Epoch 167/500\n",
            "400/400 [==============================] - 1s 2ms/step - loss: 0.0360 - val_loss: 0.0379\n",
            "Epoch 168/500\n",
            "400/400 [==============================] - 1s 2ms/step - loss: 0.0353 - val_loss: 0.0387\n",
            "Epoch 169/500\n",
            "400/400 [==============================] - 1s 2ms/step - loss: 0.0353 - val_loss: 0.0351\n",
            "Epoch 170/500\n",
            "400/400 [==============================] - 1s 2ms/step - loss: 0.0356 - val_loss: 0.0361\n",
            "Epoch 171/500\n",
            "400/400 [==============================] - 1s 2ms/step - loss: 0.0363 - val_loss: 0.0367\n",
            "Epoch 172/500\n",
            "400/400 [==============================] - 1s 2ms/step - loss: 0.0357 - val_loss: 0.0359\n",
            "Epoch 173/500\n",
            "400/400 [==============================] - 1s 2ms/step - loss: 0.0360 - val_loss: 0.0358\n",
            "Epoch 174/500\n",
            "400/400 [==============================] - 1s 2ms/step - loss: 0.0358 - val_loss: 0.0434\n",
            "Epoch 175/500\n",
            "400/400 [==============================] - 1s 2ms/step - loss: 0.0360 - val_loss: 0.0373\n",
            "Epoch 176/500\n",
            "400/400 [==============================] - 1s 2ms/step - loss: 0.0349 - val_loss: 0.0352\n",
            "Epoch 177/500\n",
            "400/400 [==============================] - 1s 2ms/step - loss: 0.0361 - val_loss: 0.0361\n",
            "Epoch 178/500\n",
            "400/400 [==============================] - 1s 2ms/step - loss: 0.0361 - val_loss: 0.0355\n",
            "Epoch 179/500\n",
            "400/400 [==============================] - 1s 2ms/step - loss: 0.0355 - val_loss: 0.0364\n",
            "Epoch 180/500\n",
            "400/400 [==============================] - 1s 2ms/step - loss: 0.0355 - val_loss: 0.0359\n",
            "Epoch 181/500\n",
            "400/400 [==============================] - 1s 2ms/step - loss: 0.0352 - val_loss: 0.0362\n",
            "Epoch 182/500\n",
            "400/400 [==============================] - 1s 2ms/step - loss: 0.0355 - val_loss: 0.0365\n",
            "Epoch 183/500\n",
            "400/400 [==============================] - 1s 2ms/step - loss: 0.0362 - val_loss: 0.0405\n",
            "Epoch 184/500\n",
            "400/400 [==============================] - 1s 2ms/step - loss: 0.0355 - val_loss: 0.0349\n",
            "Epoch 185/500\n",
            "400/400 [==============================] - 1s 2ms/step - loss: 0.0355 - val_loss: 0.0416\n",
            "Epoch 186/500\n",
            "400/400 [==============================] - 1s 2ms/step - loss: 0.0357 - val_loss: 0.0354\n",
            "Epoch 187/500\n",
            "400/400 [==============================] - 1s 2ms/step - loss: 0.0357 - val_loss: 0.0363\n",
            "Epoch 188/500\n",
            "400/400 [==============================] - 1s 2ms/step - loss: 0.0352 - val_loss: 0.0358\n",
            "Epoch 189/500\n",
            "400/400 [==============================] - 1s 2ms/step - loss: 0.0356 - val_loss: 0.0356\n",
            "Epoch 190/500\n",
            "400/400 [==============================] - 1s 2ms/step - loss: 0.0353 - val_loss: 0.0366\n",
            "Epoch 191/500\n",
            "400/400 [==============================] - 1s 2ms/step - loss: 0.0357 - val_loss: 0.0377\n",
            "Epoch 192/500\n",
            "400/400 [==============================] - 1s 2ms/step - loss: 0.0352 - val_loss: 0.0363\n",
            "Epoch 193/500\n",
            "400/400 [==============================] - 1s 2ms/step - loss: 0.0357 - val_loss: 0.0373\n",
            "Epoch 194/500\n",
            "400/400 [==============================] - 1s 2ms/step - loss: 0.0360 - val_loss: 0.0357\n",
            "Epoch 195/500\n",
            "400/400 [==============================] - 1s 2ms/step - loss: 0.0357 - val_loss: 0.0365\n",
            "Epoch 196/500\n",
            "400/400 [==============================] - 1s 2ms/step - loss: 0.0356 - val_loss: 0.0365\n",
            "Epoch 197/500\n",
            "400/400 [==============================] - 1s 2ms/step - loss: 0.0353 - val_loss: 0.0366\n",
            "Epoch 198/500\n",
            "400/400 [==============================] - 1s 2ms/step - loss: 0.0355 - val_loss: 0.0345\n",
            "Epoch 199/500\n",
            "400/400 [==============================] - 1s 2ms/step - loss: 0.0353 - val_loss: 0.0357\n",
            "Epoch 200/500\n",
            "400/400 [==============================] - 1s 2ms/step - loss: 0.0360 - val_loss: 0.0484\n",
            "Epoch 201/500\n",
            "400/400 [==============================] - 1s 2ms/step - loss: 0.0355 - val_loss: 0.0353\n",
            "Epoch 202/500\n",
            "400/400 [==============================] - 1s 2ms/step - loss: 0.0352 - val_loss: 0.0366\n",
            "Epoch 203/500\n",
            "400/400 [==============================] - 1s 2ms/step - loss: 0.0355 - val_loss: 0.0416\n",
            "Epoch 204/500\n",
            "400/400 [==============================] - 1s 2ms/step - loss: 0.0360 - val_loss: 0.0366\n",
            "Epoch 205/500\n",
            "400/400 [==============================] - 1s 2ms/step - loss: 0.0355 - val_loss: 0.0361\n",
            "Epoch 206/500\n",
            "400/400 [==============================] - 1s 2ms/step - loss: 0.0353 - val_loss: 0.0382\n",
            "Epoch 207/500\n",
            "400/400 [==============================] - 1s 2ms/step - loss: 0.0361 - val_loss: 0.0362\n",
            "Epoch 208/500\n",
            "400/400 [==============================] - 1s 2ms/step - loss: 0.0357 - val_loss: 0.0390\n",
            "Epoch 209/500\n",
            "400/400 [==============================] - 1s 2ms/step - loss: 0.0359 - val_loss: 0.0353\n",
            "Epoch 210/500\n",
            "400/400 [==============================] - 1s 2ms/step - loss: 0.0358 - val_loss: 0.0352\n",
            "Epoch 211/500\n",
            "400/400 [==============================] - 1s 2ms/step - loss: 0.0356 - val_loss: 0.0380\n",
            "Epoch 212/500\n",
            "400/400 [==============================] - 1s 2ms/step - loss: 0.0350 - val_loss: 0.0351\n",
            "Epoch 213/500\n",
            "400/400 [==============================] - 1s 2ms/step - loss: 0.0354 - val_loss: 0.0401\n",
            "Epoch 214/500\n",
            "400/400 [==============================] - 1s 2ms/step - loss: 0.0361 - val_loss: 0.0391\n",
            "Epoch 215/500\n",
            "400/400 [==============================] - 1s 2ms/step - loss: 0.0355 - val_loss: 0.0357\n",
            "Epoch 216/500\n",
            "400/400 [==============================] - 1s 2ms/step - loss: 0.0356 - val_loss: 0.0386\n",
            "Epoch 217/500\n",
            "400/400 [==============================] - 1s 2ms/step - loss: 0.0361 - val_loss: 0.0361\n",
            "Epoch 218/500\n",
            "400/400 [==============================] - 1s 2ms/step - loss: 0.0353 - val_loss: 0.0422\n",
            "Epoch 219/500\n",
            "400/400 [==============================] - 1s 2ms/step - loss: 0.0362 - val_loss: 0.0383\n",
            "Epoch 220/500\n",
            "400/400 [==============================] - 1s 2ms/step - loss: 0.0353 - val_loss: 0.0366\n",
            "Epoch 221/500\n",
            "400/400 [==============================] - 1s 2ms/step - loss: 0.0352 - val_loss: 0.0365\n",
            "Epoch 222/500\n",
            "400/400 [==============================] - 1s 2ms/step - loss: 0.0360 - val_loss: 0.0356\n",
            "Epoch 223/500\n",
            "400/400 [==============================] - 1s 2ms/step - loss: 0.0355 - val_loss: 0.0365\n",
            "Epoch 224/500\n",
            "400/400 [==============================] - 1s 2ms/step - loss: 0.0352 - val_loss: 0.0349\n",
            "Epoch 225/500\n",
            "400/400 [==============================] - 1s 2ms/step - loss: 0.0356 - val_loss: 0.0354\n",
            "Epoch 226/500\n",
            "400/400 [==============================] - 1s 2ms/step - loss: 0.0351 - val_loss: 0.0406\n",
            "Epoch 227/500\n",
            "400/400 [==============================] - 1s 2ms/step - loss: 0.0352 - val_loss: 0.0361\n",
            "Epoch 228/500\n",
            "400/400 [==============================] - 1s 2ms/step - loss: 0.0354 - val_loss: 0.0397\n",
            "Epoch 229/500\n",
            "400/400 [==============================] - 1s 2ms/step - loss: 0.0355 - val_loss: 0.0370\n",
            "Epoch 230/500\n",
            "400/400 [==============================] - 1s 2ms/step - loss: 0.0352 - val_loss: 0.0406\n",
            "Epoch 231/500\n",
            "400/400 [==============================] - 1s 2ms/step - loss: 0.0357 - val_loss: 0.0355\n",
            "Epoch 232/500\n",
            "400/400 [==============================] - 1s 2ms/step - loss: 0.0361 - val_loss: 0.0421\n",
            "Epoch 233/500\n",
            "400/400 [==============================] - 1s 2ms/step - loss: 0.0358 - val_loss: 0.0402\n",
            "Epoch 234/500\n",
            "400/400 [==============================] - 1s 2ms/step - loss: 0.0355 - val_loss: 0.0357\n",
            "Epoch 235/500\n",
            "400/400 [==============================] - 1s 2ms/step - loss: 0.0356 - val_loss: 0.0360\n",
            "Epoch 236/500\n",
            "400/400 [==============================] - 1s 2ms/step - loss: 0.0352 - val_loss: 0.0369\n",
            "Epoch 237/500\n",
            "400/400 [==============================] - 1s 2ms/step - loss: 0.0354 - val_loss: 0.0366\n",
            "Epoch 238/500\n",
            "400/400 [==============================] - 1s 2ms/step - loss: 0.0350 - val_loss: 0.0361\n",
            "Epoch 239/500\n",
            "400/400 [==============================] - 1s 2ms/step - loss: 0.0354 - val_loss: 0.0364\n",
            "Epoch 240/500\n",
            "400/400 [==============================] - 1s 2ms/step - loss: 0.0360 - val_loss: 0.0351\n",
            "Epoch 241/500\n",
            "400/400 [==============================] - 1s 2ms/step - loss: 0.0354 - val_loss: 0.0430\n",
            "Epoch 242/500\n",
            "400/400 [==============================] - 1s 2ms/step - loss: 0.0351 - val_loss: 0.0346\n",
            "Epoch 243/500\n",
            "400/400 [==============================] - 1s 2ms/step - loss: 0.0355 - val_loss: 0.0358\n",
            "Epoch 244/500\n",
            "400/400 [==============================] - 1s 2ms/step - loss: 0.0357 - val_loss: 0.0382\n",
            "Epoch 245/500\n",
            "400/400 [==============================] - 1s 2ms/step - loss: 0.0355 - val_loss: 0.0413\n",
            "Epoch 246/500\n",
            "400/400 [==============================] - 1s 2ms/step - loss: 0.0357 - val_loss: 0.0454\n",
            "Epoch 247/500\n",
            "400/400 [==============================] - 1s 2ms/step - loss: 0.0353 - val_loss: 0.0389\n",
            "Epoch 248/500\n",
            "400/400 [==============================] - 1s 2ms/step - loss: 0.0351 - val_loss: 0.0376\n",
            "Epoch 249/500\n",
            "400/400 [==============================] - 1s 2ms/step - loss: 0.0355 - val_loss: 0.0368\n",
            "Epoch 250/500\n",
            "400/400 [==============================] - 1s 2ms/step - loss: 0.0354 - val_loss: 0.0356\n",
            "Epoch 251/500\n",
            "400/400 [==============================] - 1s 2ms/step - loss: 0.0356 - val_loss: 0.0356\n",
            "Epoch 252/500\n",
            "400/400 [==============================] - 1s 2ms/step - loss: 0.0355 - val_loss: 0.0373\n",
            "Epoch 253/500\n",
            "400/400 [==============================] - 1s 2ms/step - loss: 0.0355 - val_loss: 0.0368\n",
            "Epoch 254/500\n",
            "400/400 [==============================] - 1s 2ms/step - loss: 0.0355 - val_loss: 0.0351\n",
            "Epoch 255/500\n",
            "400/400 [==============================] - 1s 2ms/step - loss: 0.0358 - val_loss: 0.0363\n",
            "Epoch 256/500\n",
            "400/400 [==============================] - 1s 2ms/step - loss: 0.0351 - val_loss: 0.0362\n",
            "Epoch 257/500\n",
            "400/400 [==============================] - 1s 2ms/step - loss: 0.0354 - val_loss: 0.0390\n",
            "Epoch 258/500\n",
            "400/400 [==============================] - 1s 2ms/step - loss: 0.0354 - val_loss: 0.0355\n",
            "Epoch 259/500\n",
            "400/400 [==============================] - 1s 2ms/step - loss: 0.0350 - val_loss: 0.0375\n",
            "Epoch 260/500\n",
            "400/400 [==============================] - 1s 2ms/step - loss: 0.0357 - val_loss: 0.0407\n",
            "Epoch 261/500\n",
            "400/400 [==============================] - 1s 2ms/step - loss: 0.0356 - val_loss: 0.0356\n",
            "Epoch 262/500\n",
            "400/400 [==============================] - 1s 2ms/step - loss: 0.0355 - val_loss: 0.0352\n",
            "Epoch 263/500\n",
            "400/400 [==============================] - 1s 2ms/step - loss: 0.0357 - val_loss: 0.0350\n",
            "Epoch 264/500\n",
            "400/400 [==============================] - 1s 2ms/step - loss: 0.0355 - val_loss: 0.0383\n",
            "Epoch 265/500\n",
            "400/400 [==============================] - 1s 2ms/step - loss: 0.0356 - val_loss: 0.0441\n",
            "Epoch 266/500\n",
            "400/400 [==============================] - 1s 2ms/step - loss: 0.0355 - val_loss: 0.0363\n",
            "Epoch 267/500\n",
            "400/400 [==============================] - 1s 2ms/step - loss: 0.0352 - val_loss: 0.0366\n",
            "Epoch 268/500\n",
            "400/400 [==============================] - 1s 2ms/step - loss: 0.0364 - val_loss: 0.0366\n",
            "Epoch 269/500\n",
            "400/400 [==============================] - 1s 2ms/step - loss: 0.0351 - val_loss: 0.0361\n",
            "Epoch 270/500\n",
            "400/400 [==============================] - 1s 2ms/step - loss: 0.0357 - val_loss: 0.0360\n",
            "Epoch 271/500\n",
            "400/400 [==============================] - 1s 2ms/step - loss: 0.0355 - val_loss: 0.0355\n",
            "Epoch 272/500\n",
            "400/400 [==============================] - 1s 2ms/step - loss: 0.0355 - val_loss: 0.0363\n",
            "Epoch 273/500\n",
            "400/400 [==============================] - 1s 2ms/step - loss: 0.0352 - val_loss: 0.0378\n",
            "Epoch 274/500\n",
            "400/400 [==============================] - 1s 2ms/step - loss: 0.0360 - val_loss: 0.0354\n",
            "Epoch 275/500\n",
            "400/400 [==============================] - 1s 2ms/step - loss: 0.0363 - val_loss: 0.0368\n",
            "Epoch 276/500\n",
            "400/400 [==============================] - 1s 2ms/step - loss: 0.0356 - val_loss: 0.0361\n",
            "Epoch 277/500\n",
            "400/400 [==============================] - 1s 2ms/step - loss: 0.0350 - val_loss: 0.0352\n",
            "Epoch 278/500\n",
            "400/400 [==============================] - 1s 2ms/step - loss: 0.0355 - val_loss: 0.0357\n",
            "Epoch 279/500\n",
            "400/400 [==============================] - 1s 2ms/step - loss: 0.0353 - val_loss: 0.0372\n",
            "Epoch 280/500\n",
            "400/400 [==============================] - 1s 2ms/step - loss: 0.0355 - val_loss: 0.0364\n",
            "Epoch 281/500\n",
            "400/400 [==============================] - 1s 2ms/step - loss: 0.0364 - val_loss: 0.0362\n",
            "Epoch 282/500\n",
            "400/400 [==============================] - 1s 2ms/step - loss: 0.0355 - val_loss: 0.0438\n",
            "Epoch 283/500\n",
            "400/400 [==============================] - 1s 2ms/step - loss: 0.0360 - val_loss: 0.0364\n",
            "Epoch 284/500\n",
            "400/400 [==============================] - 1s 2ms/step - loss: 0.0352 - val_loss: 0.0351\n",
            "Epoch 285/500\n",
            "400/400 [==============================] - 1s 2ms/step - loss: 0.0351 - val_loss: 0.0351\n",
            "Epoch 286/500\n",
            "400/400 [==============================] - 1s 2ms/step - loss: 0.0356 - val_loss: 0.0352\n",
            "Epoch 287/500\n",
            "400/400 [==============================] - 1s 2ms/step - loss: 0.0354 - val_loss: 0.0359\n",
            "Epoch 288/500\n",
            "400/400 [==============================] - 1s 2ms/step - loss: 0.0355 - val_loss: 0.0354\n",
            "Epoch 289/500\n",
            "400/400 [==============================] - 1s 2ms/step - loss: 0.0356 - val_loss: 0.0353\n",
            "Epoch 290/500\n",
            "400/400 [==============================] - 1s 2ms/step - loss: 0.0359 - val_loss: 0.0389\n",
            "Epoch 291/500\n",
            "400/400 [==============================] - 1s 2ms/step - loss: 0.0350 - val_loss: 0.0355\n",
            "Epoch 292/500\n",
            "400/400 [==============================] - 1s 2ms/step - loss: 0.0363 - val_loss: 0.0361\n",
            "Epoch 293/500\n",
            "400/400 [==============================] - 1s 2ms/step - loss: 0.0350 - val_loss: 0.0409\n",
            "Epoch 294/500\n",
            "400/400 [==============================] - 1s 2ms/step - loss: 0.0356 - val_loss: 0.0362\n",
            "Epoch 295/500\n",
            "400/400 [==============================] - 1s 2ms/step - loss: 0.0356 - val_loss: 0.0360\n",
            "Epoch 296/500\n",
            "400/400 [==============================] - 1s 2ms/step - loss: 0.0355 - val_loss: 0.0393\n",
            "Epoch 297/500\n",
            "400/400 [==============================] - 1s 2ms/step - loss: 0.0357 - val_loss: 0.0352\n",
            "Epoch 298/500\n",
            "400/400 [==============================] - 1s 2ms/step - loss: 0.0356 - val_loss: 0.0371\n",
            "Epoch 299/500\n",
            "400/400 [==============================] - 1s 2ms/step - loss: 0.0362 - val_loss: 0.0355\n",
            "Epoch 300/500\n",
            "400/400 [==============================] - 1s 2ms/step - loss: 0.0355 - val_loss: 0.0345\n",
            "Epoch 301/500\n",
            "400/400 [==============================] - 1s 2ms/step - loss: 0.0365 - val_loss: 0.0353\n",
            "Epoch 302/500\n",
            "400/400 [==============================] - 1s 2ms/step - loss: 0.0353 - val_loss: 0.0357\n",
            "Epoch 303/500\n",
            "400/400 [==============================] - 1s 2ms/step - loss: 0.0355 - val_loss: 0.0361\n",
            "Epoch 304/500\n",
            "400/400 [==============================] - 1s 2ms/step - loss: 0.0350 - val_loss: 0.0432\n",
            "Epoch 305/500\n",
            "400/400 [==============================] - 1s 2ms/step - loss: 0.0360 - val_loss: 0.0357\n",
            "Epoch 306/500\n",
            "400/400 [==============================] - 1s 2ms/step - loss: 0.0357 - val_loss: 0.0359\n",
            "Epoch 307/500\n",
            "400/400 [==============================] - 1s 2ms/step - loss: 0.0360 - val_loss: 0.0391\n",
            "Epoch 308/500\n",
            "400/400 [==============================] - 1s 2ms/step - loss: 0.0353 - val_loss: 0.0372\n",
            "Epoch 309/500\n",
            "400/400 [==============================] - 1s 2ms/step - loss: 0.0357 - val_loss: 0.0359\n",
            "Epoch 310/500\n",
            "400/400 [==============================] - 1s 2ms/step - loss: 0.0366 - val_loss: 0.0355\n",
            "Epoch 311/500\n",
            "400/400 [==============================] - 1s 2ms/step - loss: 0.0354 - val_loss: 0.0347\n",
            "Epoch 312/500\n",
            "400/400 [==============================] - 1s 2ms/step - loss: 0.0359 - val_loss: 0.0354\n",
            "Epoch 313/500\n",
            "400/400 [==============================] - 1s 2ms/step - loss: 0.0359 - val_loss: 0.0365\n",
            "Epoch 314/500\n",
            "400/400 [==============================] - 1s 2ms/step - loss: 0.0358 - val_loss: 0.0363\n",
            "Epoch 315/500\n",
            "400/400 [==============================] - 1s 2ms/step - loss: 0.0353 - val_loss: 0.0363\n",
            "Epoch 316/500\n",
            "400/400 [==============================] - 1s 2ms/step - loss: 0.0358 - val_loss: 0.0353\n",
            "Epoch 317/500\n",
            "400/400 [==============================] - 1s 2ms/step - loss: 0.0356 - val_loss: 0.0355\n",
            "Epoch 318/500\n",
            "400/400 [==============================] - 1s 2ms/step - loss: 0.0356 - val_loss: 0.0363\n",
            "Epoch 319/500\n",
            "400/400 [==============================] - 1s 2ms/step - loss: 0.0354 - val_loss: 0.0360\n",
            "Epoch 320/500\n",
            "400/400 [==============================] - 1s 2ms/step - loss: 0.0348 - val_loss: 0.0411\n",
            "Epoch 321/500\n",
            "400/400 [==============================] - 1s 2ms/step - loss: 0.0352 - val_loss: 0.0372\n",
            "Epoch 322/500\n",
            "400/400 [==============================] - 1s 2ms/step - loss: 0.0353 - val_loss: 0.0362\n",
            "Epoch 323/500\n",
            "400/400 [==============================] - 1s 2ms/step - loss: 0.0361 - val_loss: 0.0361\n",
            "Epoch 324/500\n",
            "400/400 [==============================] - 1s 2ms/step - loss: 0.0354 - val_loss: 0.0351\n",
            "Epoch 325/500\n",
            "400/400 [==============================] - 1s 2ms/step - loss: 0.0354 - val_loss: 0.0350\n",
            "Epoch 326/500\n",
            "400/400 [==============================] - 1s 2ms/step - loss: 0.0358 - val_loss: 0.0354\n",
            "Epoch 327/500\n",
            "400/400 [==============================] - 1s 2ms/step - loss: 0.0358 - val_loss: 0.0352\n",
            "Epoch 328/500\n",
            "400/400 [==============================] - 1s 2ms/step - loss: 0.0359 - val_loss: 0.0362\n",
            "Epoch 329/500\n",
            "400/400 [==============================] - 1s 2ms/step - loss: 0.0357 - val_loss: 0.0351\n",
            "Epoch 330/500\n",
            "400/400 [==============================] - 1s 2ms/step - loss: 0.0350 - val_loss: 0.0355\n",
            "Epoch 331/500\n",
            "400/400 [==============================] - 1s 2ms/step - loss: 0.0356 - val_loss: 0.0391\n",
            "Epoch 332/500\n",
            "400/400 [==============================] - 1s 2ms/step - loss: 0.0361 - val_loss: 0.0349\n",
            "Epoch 333/500\n",
            "400/400 [==============================] - 1s 2ms/step - loss: 0.0355 - val_loss: 0.0389\n",
            "Epoch 334/500\n",
            "400/400 [==============================] - 1s 2ms/step - loss: 0.0350 - val_loss: 0.0363\n",
            "Epoch 335/500\n",
            "400/400 [==============================] - 1s 2ms/step - loss: 0.0354 - val_loss: 0.0358\n",
            "Epoch 336/500\n",
            "400/400 [==============================] - 1s 2ms/step - loss: 0.0357 - val_loss: 0.0355\n",
            "Epoch 337/500\n",
            "400/400 [==============================] - 1s 2ms/step - loss: 0.0365 - val_loss: 0.0362\n",
            "Epoch 338/500\n",
            "400/400 [==============================] - 1s 2ms/step - loss: 0.0357 - val_loss: 0.0393\n",
            "Epoch 339/500\n",
            "400/400 [==============================] - 1s 2ms/step - loss: 0.0349 - val_loss: 0.0372\n",
            "Epoch 340/500\n",
            "400/400 [==============================] - 1s 2ms/step - loss: 0.0355 - val_loss: 0.0358\n",
            "Epoch 341/500\n",
            "400/400 [==============================] - 1s 2ms/step - loss: 0.0353 - val_loss: 0.0384\n",
            "Epoch 342/500\n",
            "400/400 [==============================] - 1s 2ms/step - loss: 0.0355 - val_loss: 0.0373\n",
            "Epoch 343/500\n",
            "400/400 [==============================] - 1s 2ms/step - loss: 0.0357 - val_loss: 0.0351\n",
            "Epoch 344/500\n",
            "400/400 [==============================] - 1s 2ms/step - loss: 0.0354 - val_loss: 0.0351\n",
            "Epoch 345/500\n",
            "400/400 [==============================] - 1s 2ms/step - loss: 0.0353 - val_loss: 0.0347\n",
            "Epoch 346/500\n",
            "400/400 [==============================] - 1s 2ms/step - loss: 0.0348 - val_loss: 0.0383\n",
            "Epoch 347/500\n",
            "400/400 [==============================] - 1s 2ms/step - loss: 0.0359 - val_loss: 0.0354\n",
            "Epoch 348/500\n",
            "400/400 [==============================] - 1s 2ms/step - loss: 0.0355 - val_loss: 0.0373\n",
            "Epoch 349/500\n",
            "400/400 [==============================] - 1s 2ms/step - loss: 0.0351 - val_loss: 0.0378\n",
            "Epoch 350/500\n",
            "400/400 [==============================] - 1s 2ms/step - loss: 0.0352 - val_loss: 0.0349\n",
            "Epoch 351/500\n",
            "400/400 [==============================] - 1s 2ms/step - loss: 0.0354 - val_loss: 0.0355\n",
            "Epoch 352/500\n",
            "400/400 [==============================] - 1s 2ms/step - loss: 0.0352 - val_loss: 0.0362\n",
            "Epoch 353/500\n",
            "400/400 [==============================] - 1s 2ms/step - loss: 0.0357 - val_loss: 0.0363\n",
            "Epoch 354/500\n",
            "400/400 [==============================] - 1s 2ms/step - loss: 0.0356 - val_loss: 0.0397\n",
            "Epoch 355/500\n",
            "400/400 [==============================] - 1s 2ms/step - loss: 0.0358 - val_loss: 0.0365\n",
            "Epoch 356/500\n",
            "400/400 [==============================] - 1s 2ms/step - loss: 0.0354 - val_loss: 0.0373\n",
            "Epoch 357/500\n",
            "400/400 [==============================] - 1s 2ms/step - loss: 0.0356 - val_loss: 0.0364\n",
            "Epoch 358/500\n",
            "400/400 [==============================] - 1s 2ms/step - loss: 0.0361 - val_loss: 0.0368\n",
            "Epoch 359/500\n",
            "400/400 [==============================] - 1s 2ms/step - loss: 0.0357 - val_loss: 0.0360\n",
            "Epoch 360/500\n",
            "400/400 [==============================] - 1s 2ms/step - loss: 0.0357 - val_loss: 0.0349\n",
            "Epoch 361/500\n",
            "400/400 [==============================] - 1s 2ms/step - loss: 0.0357 - val_loss: 0.0349\n",
            "Epoch 362/500\n",
            "400/400 [==============================] - 1s 2ms/step - loss: 0.0361 - val_loss: 0.0351\n",
            "Epoch 363/500\n",
            "400/400 [==============================] - 1s 2ms/step - loss: 0.0356 - val_loss: 0.0375\n",
            "Epoch 364/500\n",
            "400/400 [==============================] - 1s 2ms/step - loss: 0.0356 - val_loss: 0.0368\n",
            "Epoch 365/500\n",
            "400/400 [==============================] - 1s 2ms/step - loss: 0.0346 - val_loss: 0.0376\n",
            "Epoch 366/500\n",
            "400/400 [==============================] - 1s 2ms/step - loss: 0.0355 - val_loss: 0.0364\n",
            "Epoch 367/500\n",
            "400/400 [==============================] - 1s 2ms/step - loss: 0.0356 - val_loss: 0.0376\n",
            "Epoch 368/500\n",
            "400/400 [==============================] - 1s 2ms/step - loss: 0.0356 - val_loss: 0.0373\n",
            "Epoch 369/500\n",
            "400/400 [==============================] - 1s 2ms/step - loss: 0.0360 - val_loss: 0.0358\n",
            "Epoch 370/500\n",
            "400/400 [==============================] - 1s 2ms/step - loss: 0.0354 - val_loss: 0.0357\n",
            "Epoch 371/500\n",
            "400/400 [==============================] - 1s 2ms/step - loss: 0.0364 - val_loss: 0.0353\n",
            "Epoch 372/500\n",
            "400/400 [==============================] - 1s 2ms/step - loss: 0.0353 - val_loss: 0.0395\n",
            "Epoch 373/500\n",
            "400/400 [==============================] - 1s 2ms/step - loss: 0.0360 - val_loss: 0.0358\n",
            "Epoch 374/500\n",
            "400/400 [==============================] - 1s 2ms/step - loss: 0.0353 - val_loss: 0.0353\n",
            "Epoch 375/500\n",
            "400/400 [==============================] - 1s 2ms/step - loss: 0.0358 - val_loss: 0.0399\n",
            "Epoch 376/500\n",
            "400/400 [==============================] - 1s 2ms/step - loss: 0.0356 - val_loss: 0.0354\n",
            "Epoch 377/500\n",
            "400/400 [==============================] - 1s 2ms/step - loss: 0.0356 - val_loss: 0.0360\n",
            "Epoch 378/500\n",
            "400/400 [==============================] - 1s 2ms/step - loss: 0.0356 - val_loss: 0.0345\n",
            "Epoch 379/500\n",
            "400/400 [==============================] - 1s 2ms/step - loss: 0.0358 - val_loss: 0.0384\n",
            "Epoch 380/500\n",
            "400/400 [==============================] - 1s 2ms/step - loss: 0.0354 - val_loss: 0.0370\n",
            "Epoch 381/500\n",
            "400/400 [==============================] - 1s 2ms/step - loss: 0.0361 - val_loss: 0.0373\n",
            "Epoch 382/500\n",
            "400/400 [==============================] - 1s 2ms/step - loss: 0.0351 - val_loss: 0.0352\n",
            "Epoch 383/500\n",
            "400/400 [==============================] - 1s 2ms/step - loss: 0.0358 - val_loss: 0.0382\n",
            "Epoch 384/500\n",
            "400/400 [==============================] - 1s 2ms/step - loss: 0.0364 - val_loss: 0.0431\n",
            "Epoch 385/500\n",
            "400/400 [==============================] - 1s 2ms/step - loss: 0.0356 - val_loss: 0.0365\n",
            "Epoch 386/500\n",
            "400/400 [==============================] - 1s 2ms/step - loss: 0.0351 - val_loss: 0.0367\n",
            "Epoch 387/500\n",
            "400/400 [==============================] - 1s 2ms/step - loss: 0.0358 - val_loss: 0.0362\n",
            "Epoch 388/500\n",
            "400/400 [==============================] - 1s 2ms/step - loss: 0.0350 - val_loss: 0.0352\n",
            "Epoch 389/500\n",
            "400/400 [==============================] - 1s 2ms/step - loss: 0.0355 - val_loss: 0.0354\n",
            "Epoch 390/500\n",
            "400/400 [==============================] - 1s 2ms/step - loss: 0.0358 - val_loss: 0.0352\n",
            "Epoch 391/500\n",
            "400/400 [==============================] - 1s 2ms/step - loss: 0.0358 - val_loss: 0.0356\n",
            "Epoch 392/500\n",
            "400/400 [==============================] - 1s 2ms/step - loss: 0.0352 - val_loss: 0.0362\n",
            "Epoch 393/500\n",
            "400/400 [==============================] - 1s 2ms/step - loss: 0.0362 - val_loss: 0.0355\n",
            "Epoch 394/500\n",
            "400/400 [==============================] - 1s 2ms/step - loss: 0.0351 - val_loss: 0.0427\n",
            "Epoch 395/500\n",
            "400/400 [==============================] - 1s 2ms/step - loss: 0.0360 - val_loss: 0.0366\n",
            "Epoch 396/500\n",
            "400/400 [==============================] - 1s 2ms/step - loss: 0.0352 - val_loss: 0.0353\n",
            "Epoch 397/500\n",
            "400/400 [==============================] - 1s 2ms/step - loss: 0.0352 - val_loss: 0.0363\n",
            "Epoch 398/500\n",
            "400/400 [==============================] - 1s 2ms/step - loss: 0.0357 - val_loss: 0.0369\n",
            "Epoch 399/500\n",
            "400/400 [==============================] - 1s 2ms/step - loss: 0.0356 - val_loss: 0.0364\n",
            "Epoch 400/500\n",
            "400/400 [==============================] - 1s 2ms/step - loss: 0.0361 - val_loss: 0.0365\n",
            "Epoch 401/500\n",
            "400/400 [==============================] - 1s 2ms/step - loss: 0.0352 - val_loss: 0.0346\n",
            "Epoch 402/500\n",
            "400/400 [==============================] - 1s 2ms/step - loss: 0.0357 - val_loss: 0.0370\n",
            "Epoch 403/500\n",
            "400/400 [==============================] - 1s 2ms/step - loss: 0.0349 - val_loss: 0.0363\n",
            "Epoch 404/500\n",
            "400/400 [==============================] - 1s 2ms/step - loss: 0.0357 - val_loss: 0.0354\n",
            "Epoch 405/500\n",
            "400/400 [==============================] - 1s 2ms/step - loss: 0.0353 - val_loss: 0.0379\n",
            "Epoch 406/500\n",
            "400/400 [==============================] - 1s 2ms/step - loss: 0.0351 - val_loss: 0.0366\n",
            "Epoch 407/500\n",
            "400/400 [==============================] - 1s 2ms/step - loss: 0.0355 - val_loss: 0.0348\n",
            "Epoch 408/500\n",
            "400/400 [==============================] - 1s 2ms/step - loss: 0.0354 - val_loss: 0.0453\n",
            "Epoch 409/500\n",
            "400/400 [==============================] - 1s 2ms/step - loss: 0.0354 - val_loss: 0.0355\n",
            "Epoch 410/500\n",
            "400/400 [==============================] - 1s 2ms/step - loss: 0.0353 - val_loss: 0.0371\n",
            "Epoch 411/500\n",
            "400/400 [==============================] - 1s 2ms/step - loss: 0.0362 - val_loss: 0.0511\n",
            "Epoch 412/500\n",
            "400/400 [==============================] - 1s 2ms/step - loss: 0.0358 - val_loss: 0.0354\n",
            "Epoch 413/500\n",
            "400/400 [==============================] - 1s 2ms/step - loss: 0.0348 - val_loss: 0.0412\n",
            "Epoch 414/500\n",
            "400/400 [==============================] - 1s 2ms/step - loss: 0.0355 - val_loss: 0.0386\n",
            "Epoch 415/500\n",
            "400/400 [==============================] - 1s 2ms/step - loss: 0.0359 - val_loss: 0.0362\n",
            "Epoch 416/500\n",
            "400/400 [==============================] - 1s 2ms/step - loss: 0.0362 - val_loss: 0.0356\n",
            "Epoch 417/500\n",
            "400/400 [==============================] - 1s 2ms/step - loss: 0.0353 - val_loss: 0.0355\n",
            "Epoch 418/500\n",
            "400/400 [==============================] - 1s 2ms/step - loss: 0.0366 - val_loss: 0.0437\n",
            "Epoch 419/500\n",
            "400/400 [==============================] - 1s 2ms/step - loss: 0.0357 - val_loss: 0.0353\n",
            "Epoch 420/500\n",
            "400/400 [==============================] - 1s 2ms/step - loss: 0.0348 - val_loss: 0.0360\n",
            "Epoch 421/500\n",
            "400/400 [==============================] - 1s 2ms/step - loss: 0.0361 - val_loss: 0.0352\n",
            "Epoch 422/500\n",
            "400/400 [==============================] - 1s 2ms/step - loss: 0.0349 - val_loss: 0.0348\n",
            "Epoch 423/500\n",
            "400/400 [==============================] - 1s 2ms/step - loss: 0.0347 - val_loss: 0.0410\n",
            "Epoch 424/500\n",
            "400/400 [==============================] - 1s 2ms/step - loss: 0.0357 - val_loss: 0.0354\n",
            "Epoch 425/500\n",
            "400/400 [==============================] - 1s 2ms/step - loss: 0.0358 - val_loss: 0.0361\n",
            "Epoch 426/500\n",
            "400/400 [==============================] - 1s 2ms/step - loss: 0.0359 - val_loss: 0.0404\n",
            "Epoch 427/500\n",
            "400/400 [==============================] - 1s 2ms/step - loss: 0.0357 - val_loss: 0.0368\n",
            "Epoch 428/500\n",
            "400/400 [==============================] - 1s 2ms/step - loss: 0.0353 - val_loss: 0.0388\n",
            "Epoch 429/500\n",
            "400/400 [==============================] - 1s 2ms/step - loss: 0.0354 - val_loss: 0.0383\n",
            "Epoch 430/500\n",
            "400/400 [==============================] - 1s 2ms/step - loss: 0.0359 - val_loss: 0.0349\n",
            "Epoch 431/500\n",
            "400/400 [==============================] - 1s 2ms/step - loss: 0.0356 - val_loss: 0.0477\n",
            "Epoch 432/500\n",
            "400/400 [==============================] - 1s 2ms/step - loss: 0.0360 - val_loss: 0.0353\n",
            "Epoch 433/500\n",
            "400/400 [==============================] - 1s 2ms/step - loss: 0.0357 - val_loss: 0.0361\n",
            "Epoch 434/500\n",
            "400/400 [==============================] - 1s 2ms/step - loss: 0.0359 - val_loss: 0.0350\n",
            "Epoch 435/500\n",
            "400/400 [==============================] - 1s 2ms/step - loss: 0.0355 - val_loss: 0.0360\n",
            "Epoch 436/500\n",
            "400/400 [==============================] - 1s 2ms/step - loss: 0.0350 - val_loss: 0.0364\n",
            "Epoch 437/500\n",
            "400/400 [==============================] - 1s 2ms/step - loss: 0.0356 - val_loss: 0.0360\n",
            "Epoch 438/500\n",
            "400/400 [==============================] - 1s 2ms/step - loss: 0.0359 - val_loss: 0.0367\n",
            "Epoch 439/500\n",
            "400/400 [==============================] - 1s 2ms/step - loss: 0.0351 - val_loss: 0.0347\n",
            "Epoch 440/500\n",
            "400/400 [==============================] - 1s 2ms/step - loss: 0.0354 - val_loss: 0.0386\n",
            "Epoch 441/500\n",
            "400/400 [==============================] - 1s 2ms/step - loss: 0.0361 - val_loss: 0.0362\n",
            "Epoch 442/500\n",
            "400/400 [==============================] - 1s 2ms/step - loss: 0.0356 - val_loss: 0.0371\n",
            "Epoch 443/500\n",
            "400/400 [==============================] - 1s 2ms/step - loss: 0.0356 - val_loss: 0.0351\n",
            "Epoch 444/500\n",
            "400/400 [==============================] - 1s 2ms/step - loss: 0.0353 - val_loss: 0.0368\n",
            "Epoch 445/500\n",
            "400/400 [==============================] - 1s 2ms/step - loss: 0.0356 - val_loss: 0.0348\n",
            "Epoch 446/500\n",
            "400/400 [==============================] - 1s 2ms/step - loss: 0.0351 - val_loss: 0.0357\n",
            "Epoch 447/500\n",
            "400/400 [==============================] - 1s 2ms/step - loss: 0.0363 - val_loss: 0.0394\n",
            "Epoch 448/500\n",
            "400/400 [==============================] - 1s 2ms/step - loss: 0.0355 - val_loss: 0.0391\n",
            "Epoch 449/500\n",
            "400/400 [==============================] - 1s 2ms/step - loss: 0.0355 - val_loss: 0.0368\n",
            "Epoch 450/500\n",
            "400/400 [==============================] - 1s 2ms/step - loss: 0.0357 - val_loss: 0.0358\n",
            "Epoch 451/500\n",
            "400/400 [==============================] - 1s 2ms/step - loss: 0.0353 - val_loss: 0.0350\n",
            "Epoch 452/500\n",
            "400/400 [==============================] - 1s 2ms/step - loss: 0.0350 - val_loss: 0.0351\n",
            "Epoch 453/500\n",
            "400/400 [==============================] - 1s 2ms/step - loss: 0.0349 - val_loss: 0.0406\n",
            "Epoch 454/500\n",
            "400/400 [==============================] - 1s 2ms/step - loss: 0.0353 - val_loss: 0.0356\n",
            "Epoch 455/500\n",
            "400/400 [==============================] - 1s 2ms/step - loss: 0.0351 - val_loss: 0.0364\n",
            "Epoch 456/500\n",
            "400/400 [==============================] - 1s 2ms/step - loss: 0.0352 - val_loss: 0.0354\n",
            "Epoch 457/500\n",
            "400/400 [==============================] - 1s 2ms/step - loss: 0.0359 - val_loss: 0.0416\n",
            "Epoch 458/500\n",
            "400/400 [==============================] - 1s 2ms/step - loss: 0.0360 - val_loss: 0.0378\n",
            "Epoch 459/500\n",
            "400/400 [==============================] - 1s 2ms/step - loss: 0.0353 - val_loss: 0.0352\n",
            "Epoch 460/500\n",
            "400/400 [==============================] - 1s 2ms/step - loss: 0.0354 - val_loss: 0.0363\n",
            "Epoch 461/500\n",
            "400/400 [==============================] - 1s 2ms/step - loss: 0.0352 - val_loss: 0.0370\n",
            "Epoch 462/500\n",
            "400/400 [==============================] - 1s 2ms/step - loss: 0.0356 - val_loss: 0.0356\n",
            "Epoch 463/500\n",
            "400/400 [==============================] - 1s 2ms/step - loss: 0.0351 - val_loss: 0.0361\n",
            "Epoch 464/500\n",
            "400/400 [==============================] - 1s 2ms/step - loss: 0.0355 - val_loss: 0.0371\n",
            "Epoch 465/500\n",
            "400/400 [==============================] - 1s 2ms/step - loss: 0.0353 - val_loss: 0.0412\n",
            "Epoch 466/500\n",
            "400/400 [==============================] - 1s 2ms/step - loss: 0.0351 - val_loss: 0.0350\n",
            "Epoch 467/500\n",
            "400/400 [==============================] - 1s 2ms/step - loss: 0.0357 - val_loss: 0.0384\n",
            "Epoch 468/500\n",
            "400/400 [==============================] - 1s 2ms/step - loss: 0.0365 - val_loss: 0.0404\n",
            "Epoch 469/500\n",
            "400/400 [==============================] - 1s 2ms/step - loss: 0.0351 - val_loss: 0.0363\n",
            "Epoch 470/500\n",
            "400/400 [==============================] - 1s 2ms/step - loss: 0.0355 - val_loss: 0.0379\n",
            "Epoch 471/500\n",
            "400/400 [==============================] - 1s 2ms/step - loss: 0.0356 - val_loss: 0.0367\n",
            "Epoch 472/500\n",
            "400/400 [==============================] - 1s 2ms/step - loss: 0.0360 - val_loss: 0.0354\n",
            "Epoch 473/500\n",
            "400/400 [==============================] - 1s 2ms/step - loss: 0.0351 - val_loss: 0.0380\n",
            "Epoch 474/500\n",
            "400/400 [==============================] - 1s 2ms/step - loss: 0.0355 - val_loss: 0.0374\n",
            "Epoch 475/500\n",
            "400/400 [==============================] - 1s 2ms/step - loss: 0.0352 - val_loss: 0.0384\n",
            "Epoch 476/500\n",
            "400/400 [==============================] - 1s 2ms/step - loss: 0.0361 - val_loss: 0.0374\n",
            "Epoch 477/500\n",
            "400/400 [==============================] - 1s 2ms/step - loss: 0.0355 - val_loss: 0.0349\n",
            "Epoch 478/500\n",
            "400/400 [==============================] - 1s 2ms/step - loss: 0.0348 - val_loss: 0.0484\n",
            "Epoch 479/500\n",
            "400/400 [==============================] - 1s 2ms/step - loss: 0.0356 - val_loss: 0.0358\n",
            "Epoch 480/500\n",
            "400/400 [==============================] - 1s 2ms/step - loss: 0.0358 - val_loss: 0.0386\n",
            "Epoch 481/500\n",
            "400/400 [==============================] - 1s 2ms/step - loss: 0.0354 - val_loss: 0.0348\n",
            "Epoch 482/500\n",
            "400/400 [==============================] - 1s 2ms/step - loss: 0.0358 - val_loss: 0.0361\n",
            "Epoch 483/500\n",
            "400/400 [==============================] - 1s 2ms/step - loss: 0.0351 - val_loss: 0.0408\n",
            "Epoch 484/500\n",
            "400/400 [==============================] - 1s 2ms/step - loss: 0.0358 - val_loss: 0.0360\n",
            "Epoch 485/500\n",
            "400/400 [==============================] - 1s 2ms/step - loss: 0.0354 - val_loss: 0.0364\n",
            "Epoch 486/500\n",
            "400/400 [==============================] - 1s 2ms/step - loss: 0.0354 - val_loss: 0.0370\n",
            "Epoch 487/500\n",
            "400/400 [==============================] - 1s 2ms/step - loss: 0.0357 - val_loss: 0.0362\n",
            "Epoch 488/500\n",
            "400/400 [==============================] - 1s 2ms/step - loss: 0.0360 - val_loss: 0.0383\n",
            "Epoch 489/500\n",
            "400/400 [==============================] - 1s 2ms/step - loss: 0.0355 - val_loss: 0.0357\n",
            "Epoch 490/500\n",
            "400/400 [==============================] - 1s 2ms/step - loss: 0.0358 - val_loss: 0.0396\n",
            "Epoch 491/500\n",
            "400/400 [==============================] - 1s 2ms/step - loss: 0.0352 - val_loss: 0.0351\n",
            "Epoch 492/500\n",
            "400/400 [==============================] - 1s 2ms/step - loss: 0.0352 - val_loss: 0.0391\n",
            "Epoch 493/500\n",
            "400/400 [==============================] - 1s 2ms/step - loss: 0.0355 - val_loss: 0.0375\n",
            "Epoch 494/500\n",
            "400/400 [==============================] - 1s 2ms/step - loss: 0.0357 - val_loss: 0.0356\n",
            "Epoch 495/500\n",
            "400/400 [==============================] - 1s 2ms/step - loss: 0.0354 - val_loss: 0.0362\n",
            "Epoch 496/500\n",
            "400/400 [==============================] - 1s 2ms/step - loss: 0.0353 - val_loss: 0.0380\n",
            "Epoch 497/500\n",
            "400/400 [==============================] - 1s 2ms/step - loss: 0.0359 - val_loss: 0.0348\n",
            "Epoch 498/500\n",
            "400/400 [==============================] - 1s 2ms/step - loss: 0.0357 - val_loss: 0.0370\n",
            "Epoch 499/500\n",
            "400/400 [==============================] - 1s 2ms/step - loss: 0.0359 - val_loss: 0.0353\n",
            "Epoch 500/500\n",
            "400/400 [==============================] - 1s 2ms/step - loss: 0.0358 - val_loss: 0.0478\n"
          ]
        }
      ]
    },
    {
      "cell_type": "code",
      "metadata": {
        "colab": {
          "base_uri": "https://localhost:8080/"
        },
        "id": "J-JwyDqdvWyd",
        "outputId": "0e2299a0-a0af-4c49-fc84-ab7a58a27c84"
      },
      "source": [
        "#model.history.history.keys()"
      ],
      "execution_count": null,
      "outputs": [
        {
          "output_type": "execute_result",
          "data": {
            "text/plain": [
              "dict_keys(['loss', 'val_loss'])"
            ]
          },
          "metadata": {},
          "execution_count": 87
        }
      ]
    },
    {
      "cell_type": "markdown",
      "source": [
        "Loss value is well below 1.0; validation loss is very volatile"
      ],
      "metadata": {
        "id": "Dfdkde7U2kf1"
      }
    },
    {
      "cell_type": "code",
      "metadata": {
        "colab": {
          "base_uri": "https://localhost:8080/",
          "height": 295
        },
        "id": "NcRAAvsBxULA",
        "outputId": "bcc915f7-d390-4f97-a974-cab438c32ce8"
      },
      "source": [
        "print_loss_history(history.history, logscale=True)"
      ],
      "execution_count": null,
      "outputs": [
        {
          "output_type": "display_data",
          "data": {
            "image/png": "[encoded data removed]",
            "text/plain": [
              "<Figure size 432x288 with 1 Axes>"
            ]
          },
          "metadata": {
            "needs_background": "light"
          }
        }
      ]
    },
    {
      "cell_type": "code",
      "metadata": {
        "colab": {
          "base_uri": "https://localhost:8080/"
        },
        "id": "93NTm9ukwBse",
        "outputId": "66a401dd-edfc-4620-e79d-be693880d84c"
      },
      "source": [
        "print(f\"The six number summary for training loss is:\\n {six_number_summary(history.history['loss'])}\")\n",
        "print(f\"The six number summary for validation loss is:\\n {six_number_summary(history.history['val_loss'])}\")"
      ],
      "execution_count": null,
      "outputs": [
        {
          "output_type": "stream",
          "name": "stdout",
          "text": [
            "The six number summary for training loss is:\n",
            " ('Avg: 0.036', 'Min: 0.035', 'Q1: 0.035', 'Median: 0.036', 'Q3: 0.036', 'Max: 0.037')\n",
            "The six number summary for validation loss is:\n",
            " ('Avg: 0.037', 'Min: 0.034', 'Q1: 0.035', 'Median: 0.036', 'Q3: 0.037', 'Max: 0.053')\n"
          ]
        }
      ]
    },
    {
      "cell_type": "markdown",
      "metadata": {
        "id": "ehKcQqaBwp95"
      },
      "source": [
        "### Inference"
      ]
    },
    {
      "cell_type": "code",
      "metadata": {
        "id": "GD2HHw9IaRdp"
      },
      "source": [
        "y_pred = model.predict(X_test)"
      ],
      "execution_count": null,
      "outputs": []
    },
    {
      "cell_type": "code",
      "metadata": {
        "colab": {
          "base_uri": "https://localhost:8080/"
        },
        "id": "grCzf9Oc1Su5",
        "outputId": "29fb18b8-9691-49a6-e29b-6ab2646b4b93"
      },
      "source": [
        "y_pred[0:5]"
      ],
      "execution_count": null,
      "outputs": [
        {
          "output_type": "execute_result",
          "data": {
            "text/plain": [
              "array([[20.834759],\n",
              "       [42.50136 ],\n",
              "       [34.002964],\n",
              "       [18.686829],\n",
              "       [61.6536  ]], dtype=float32)"
            ]
          },
          "metadata": {},
          "execution_count": 107
        }
      ]
    },
    {
      "cell_type": "code",
      "metadata": {
        "colab": {
          "base_uri": "https://localhost:8080/"
        },
        "id": "fQoWjCfLtTeL",
        "outputId": "a74ac097-4200-4aef-d900-bc8540e17fbb"
      },
      "source": [
        "print('MAE:', metrics.mean_absolute_error(y_test, y_pred))  \n",
        "print('MSE:', metrics.mean_squared_error(y_test, y_pred))  \n",
        "print('RMSE:', np.sqrt(metrics.mean_squared_error(y_test, y_pred)))\n",
        "print('VarScore:', metrics.explained_variance_score(y_test,y_pred))"
      ],
      "execution_count": null,
      "outputs": [
        {
          "output_type": "stream",
          "name": "stdout",
          "text": [
            "MAE: 0.1805972881317137\n",
            "MSE: 0.040225011404424825\n",
            "RMSE: 0.2005617396325252\n",
            "VarScore: 0.9998436758265724\n"
          ]
        }
      ]
    },
    {
      "cell_type": "markdown",
      "source": [
        "This looks too good to be true..."
      ],
      "metadata": {
        "id": "QasmSTN22NZM"
      }
    },
    {
      "cell_type": "code",
      "metadata": {
        "colab": {
          "base_uri": "https://localhost:8080/",
          "height": 337
        },
        "id": "uhI7E5rZtiab",
        "outputId": "3d873673-2d39-44bc-f015-bfb91b50d531"
      },
      "source": [
        "# Visualizing Our predictions\n",
        "fig = plt.figure(figsize=(10,5))\n",
        "plt.scatter(y_test, y_pred)\n",
        "# Perfect predictions\n",
        "plt.plot(y_test,y_test,'r')"
      ],
      "execution_count": null,
      "outputs": [
        {
          "output_type": "execute_result",
          "data": {
            "text/plain": [
              "[<matplotlib.lines.Line2D at 0x7fbc153ef390>]"
            ]
          },
          "metadata": {},
          "execution_count": 106
        },
        {
          "output_type": "display_data",
          "data": {
            "image/png": "[encoded data removed]",
            "text/plain": [
              "<Figure size 720x360 with 1 Axes>"
            ]
          },
          "metadata": {
            "needs_background": "light"
          }
        }
      ]
    },
    {
      "cell_type": "markdown",
      "metadata": {
        "id": "AUEwjZCL0b0q"
      },
      "source": [
        "### APPENDIX"
      ]
    },
    {
      "cell_type": "markdown",
      "metadata": {
        "id": "E94_9_29goxD"
      },
      "source": [
        "### Binary option model"
      ]
    },
    {
      "cell_type": "markdown",
      "source": [
        "I got close to getting this binary option model to work, but there was an error in the eu.price() method that I could not fix"
      ],
      "metadata": {
        "id": "0yUErWydwje0"
      }
    },
    {
      "cell_type": "code",
      "source": [
        "option_eu = euro_option(\n",
        "    217.58,\n",
        "    215,\n",
        "    0.05,\n",
        "    0.1,\n",
        "    40,\n",
        "    #{\"tk\": \"AAPL\", \"is_cal\": True, \"start\": \"2020-01-01\", \"end\": \"2021-01-01\"}\n",
        "    {\"tk\": \"AAPL\", \"is_cal\": True, \"start\": \"2017-08-18\", \"end\": \"2018-08-18\"}\n",
        ")\n",
        "\n",
        "print(option_eu.price())"
      ],
      "metadata": {
        "colab": {
          "base_uri": "https://localhost:8080/",
          "height": 0
        },
        "id": "3vqtEMq2iOAh",
        "outputId": "51bbd45a-3956-49e2-8180-9fec0b11a6c6"
      },
      "execution_count": 128,
      "outputs": [
        {
          "output_type": "stream",
          "name": "stdout",
          "text": [
            "\r[*********************100%***********************]  1 of 1 completed\n"
          ]
        },
        {
          "output_type": "error",
          "ename": "ZeroDivisionError",
          "evalue": "ignored",
          "traceback": [
            "\u001b[0;31m---------------------------------------------------------------------------\u001b[0m",
            "\u001b[0;31mZeroDivisionError\u001b[0m                         Traceback (most recent call last)",
            "\u001b[0;32m<ipython-input-128-cc4c75521756>\u001b[0m in \u001b[0;36m<module>\u001b[0;34m()\u001b[0m\n\u001b[1;32m      9\u001b[0m )\n\u001b[1;32m     10\u001b[0m \u001b[0;34m\u001b[0m\u001b[0m\n\u001b[0;32m---> 11\u001b[0;31m \u001b[0mprint\u001b[0m\u001b[0;34m(\u001b[0m\u001b[0moption_eu\u001b[0m\u001b[0;34m.\u001b[0m\u001b[0mprice\u001b[0m\u001b[0;34m(\u001b[0m\u001b[0;34m)\u001b[0m\u001b[0;34m)\u001b[0m\u001b[0;34m\u001b[0m\u001b[0;34m\u001b[0m\u001b[0m\n\u001b[0m",
            "\u001b[0;32m<ipython-input-127-ac49219fb828>\u001b[0m in \u001b[0;36mprice\u001b[0;34m(self)\u001b[0m\n\u001b[1;32m     42\u001b[0m \u001b[0;34m\u001b[0m\u001b[0m\n\u001b[1;32m     43\u001b[0m         \u001b[0;32mdef\u001b[0m \u001b[0mprice\u001b[0m\u001b[0;34m(\u001b[0m\u001b[0mself\u001b[0m\u001b[0;34m)\u001b[0m\u001b[0;34m:\u001b[0m\u001b[0;34m\u001b[0m\u001b[0;34m\u001b[0m\u001b[0m\n\u001b[0;32m---> 44\u001b[0;31m                 \u001b[0mself\u001b[0m\u001b[0;34m.\u001b[0m\u001b[0m__int_prms__\u001b[0m\u001b[0;34m(\u001b[0m\u001b[0;34m)\u001b[0m\u001b[0;34m\u001b[0m\u001b[0;34m\u001b[0m\u001b[0m\n\u001b[0m\u001b[1;32m     45\u001b[0m                 \u001b[0mself\u001b[0m\u001b[0;34m.\u001b[0m\u001b[0mstocktree\u001b[0m\u001b[0;34m(\u001b[0m\u001b[0;34m)\u001b[0m\u001b[0;34m\u001b[0m\u001b[0;34m\u001b[0m\u001b[0m\n\u001b[1;32m     46\u001b[0m                 \u001b[0mpayoff\u001b[0m \u001b[0;34m=\u001b[0m \u001b[0mself\u001b[0m\u001b[0;34m.\u001b[0m\u001b[0mbegin_tree\u001b[0m\u001b[0;34m(\u001b[0m\u001b[0;34m)\u001b[0m\u001b[0;34m\u001b[0m\u001b[0;34m\u001b[0m\u001b[0m\n",
            "\u001b[0;32m<ipython-input-127-ac49219fb828>\u001b[0m in \u001b[0;36m__int_prms__\u001b[0;34m(self)\u001b[0m\n\u001b[1;32m     12\u001b[0m                 \u001b[0mself\u001b[0m\u001b[0;34m.\u001b[0m\u001b[0mu\u001b[0m \u001b[0;34m=\u001b[0m \u001b[0mfloat\u001b[0m\u001b[0;34m(\u001b[0m\u001b[0mmath\u001b[0m\u001b[0;34m.\u001b[0m\u001b[0mexp\u001b[0m\u001b[0;34m(\u001b[0m\u001b[0mself\u001b[0m\u001b[0;34m.\u001b[0m\u001b[0msigma\u001b[0m\u001b[0;34m*\u001b[0m\u001b[0mmath\u001b[0m\u001b[0;34m.\u001b[0m\u001b[0msqrt\u001b[0m\u001b[0;34m(\u001b[0m\u001b[0mself\u001b[0m\u001b[0;34m.\u001b[0m\u001b[0mdt\u001b[0m\u001b[0;34m)\u001b[0m\u001b[0;34m)\u001b[0m\u001b[0;34m)\u001b[0m\u001b[0;34m\u001b[0m\u001b[0;34m\u001b[0m\u001b[0m\n\u001b[1;32m     13\u001b[0m                 \u001b[0mself\u001b[0m\u001b[0;34m.\u001b[0m\u001b[0md\u001b[0m \u001b[0;34m=\u001b[0m \u001b[0mfloat\u001b[0m\u001b[0;34m(\u001b[0m\u001b[0;36m1.\u001b[0m\u001b[0;34m/\u001b[0m\u001b[0mself\u001b[0m\u001b[0;34m.\u001b[0m\u001b[0mu\u001b[0m\u001b[0;34m)\u001b[0m\u001b[0;34m\u001b[0m\u001b[0;34m\u001b[0m\u001b[0m\n\u001b[0;32m---> 14\u001b[0;31m                 \u001b[0mself\u001b[0m\u001b[0;34m.\u001b[0m\u001b[0mqu\u001b[0m \u001b[0;34m=\u001b[0m \u001b[0mfloat\u001b[0m\u001b[0;34m(\u001b[0m\u001b[0mmath\u001b[0m\u001b[0;34m.\u001b[0m\u001b[0mexp\u001b[0m\u001b[0;34m(\u001b[0m\u001b[0;34m(\u001b[0m\u001b[0mself\u001b[0m\u001b[0;34m.\u001b[0m\u001b[0mr\u001b[0m\u001b[0;34m-\u001b[0m\u001b[0mself\u001b[0m\u001b[0;34m.\u001b[0m\u001b[0mdiv\u001b[0m\u001b[0;34m)\u001b[0m\u001b[0;34m*\u001b[0m\u001b[0mself\u001b[0m\u001b[0;34m.\u001b[0m\u001b[0mdt\u001b[0m\u001b[0;34m)\u001b[0m\u001b[0;34m-\u001b[0m\u001b[0mself\u001b[0m\u001b[0;34m.\u001b[0m\u001b[0md\u001b[0m\u001b[0;34m)\u001b[0m\u001b[0;34m/\u001b[0m\u001b[0mfloat\u001b[0m\u001b[0;34m(\u001b[0m\u001b[0mself\u001b[0m\u001b[0;34m.\u001b[0m\u001b[0mu\u001b[0m\u001b[0;34m-\u001b[0m\u001b[0mself\u001b[0m\u001b[0;34m.\u001b[0m\u001b[0md\u001b[0m\u001b[0;34m)\u001b[0m\u001b[0;34m\u001b[0m\u001b[0;34m\u001b[0m\u001b[0m\n\u001b[0m\u001b[1;32m     15\u001b[0m                 \u001b[0mself\u001b[0m\u001b[0;34m.\u001b[0m\u001b[0mqd\u001b[0m \u001b[0;34m=\u001b[0m \u001b[0mfloat\u001b[0m\u001b[0;34m(\u001b[0m\u001b[0;36m1\u001b[0m\u001b[0;34m-\u001b[0m\u001b[0mself\u001b[0m\u001b[0;34m.\u001b[0m\u001b[0mqu\u001b[0m\u001b[0;34m)\u001b[0m\u001b[0;34m\u001b[0m\u001b[0;34m\u001b[0m\u001b[0m\n\u001b[1;32m     16\u001b[0m \u001b[0;34m\u001b[0m\u001b[0m\n",
            "\u001b[0;31mZeroDivisionError\u001b[0m: float division by zero"
          ]
        }
      ]
    },
    {
      "cell_type": "code",
      "source": [
        "!pip install arch"
      ],
      "metadata": {
        "id": "EF-Ch-AEilaL"
      },
      "execution_count": null,
      "outputs": []
    },
    {
      "cell_type": "code",
      "source": [
        "!pip install yfinance"
      ],
      "metadata": {
        "id": "_rlSmiyhm-j5"
      },
      "execution_count": null,
      "outputs": []
    },
    {
      "cell_type": "code",
      "source": [
        "from __future__ import division"
      ],
      "metadata": {
        "id": "cLQ-jrR0sEkx"
      },
      "execution_count": 97,
      "outputs": []
    },
    {
      "cell_type": "code",
      "source": [
        "import pandas\n",
        "from pandas_datareader import data as pdr\n",
        "import yfinance as yfin\n",
        "yfin.pdr_override()"
      ],
      "metadata": {
        "id": "3awb04H1m5p8"
      },
      "execution_count": 82,
      "outputs": []
    },
    {
      "cell_type": "code",
      "source": [
        "# import pandas_datareader.data as pdr\n",
        "# import fix_yahoo_finance as yf\n",
        "import arch\n",
        "from statsmodels.graphics.tsaplots import plot_acf\n",
        "# yf.pdr_override()\n",
        "\n",
        "class stock_vol:\n",
        "\n",
        "\tdef __init__(self, tk, start, end):\n",
        "\t\tself.tk = tk\n",
        "\t\tself.start = start\n",
        "\t\tself.end = end\n",
        "\t\tall_data = pdr.get_data_yahoo(self.tk, start=self.start, end=self.end)\n",
        "\t\tself.stock_data = pd.DataFrame(all_data['Adj Close'], columns=[\"Adj Close\"])\n",
        "\t\tself.stock_data[\"log\"] = np.log(self.stock_data)-np.log(self.stock_data.shift(1))\n",
        "\n",
        "\tdef mean_sigma(self):\n",
        "\t\tst = self.stock_data[\"log\"].dropna().ewm(span=252).std()\n",
        "\t\tsigma = st.iloc[-1]\n",
        "\t\treturn sigma\n",
        "\n",
        "\tdef garch_sigma(self):\n",
        "\t\tmodel = arch.arch_model(self.stock_data[\"log\"].dropna(), mean='Zero', vol='GARCH', p=1, q=1)\n",
        "\t\tmodel_fit = model.fit()\n",
        "\t\tforecast = model_fit.forecast(horizon=1)\n",
        "\t\tvar = forecast.variance.iloc[-1]\n",
        "\t\tsigma = float(np.sqrt(var))\n",
        "\t\treturn sigma\n",
        "\n",
        "\n",
        "if __name__ == \"__main__\":\n",
        "\tvol = stock_vol(\"AAPL\", start=\"2016-01-01\", end=\"2016-03-01\")\n",
        "\ttest = vol.stock_data[\"log\"].dropna()\n",
        "\tprint(test)\n",
        "\tfig = plot_acf(test)\n",
        "\tplt.show()"
      ],
      "metadata": {
        "colab": {
          "base_uri": "https://localhost:8080/",
          "height": 0
        },
        "id": "90RWY_W1icvZ",
        "outputId": "89278e3f-d233-4209-c4f7-e5c3c09581d7"
      },
      "execution_count": 83,
      "outputs": [
        {
          "output_type": "stream",
          "name": "stdout",
          "text": [
            "\r[*********************100%***********************]  1 of 1 completed\n",
            "Date\n",
            "2016-01-05   -0.025379\n",
            "2016-01-06   -0.019764\n",
            "2016-01-07   -0.043121\n",
            "2016-01-08    0.005274\n",
            "2016-01-11    0.016062\n",
            "2016-01-12    0.014409\n",
            "2016-01-13   -0.026047\n",
            "2016-01-14    0.021635\n",
            "2016-01-15   -0.024308\n",
            "2016-01-19   -0.004851\n",
            "2016-01-20    0.001344\n",
            "2016-01-21   -0.005075\n",
            "2016-01-22    0.051802\n",
            "2016-01-25   -0.019716\n",
            "2016-01-26    0.005516\n",
            "2016-01-27   -0.067965\n",
            "2016-01-28    0.007146\n",
            "2016-01-29    0.033958\n",
            "2016-02-01   -0.009393\n",
            "2016-02-02   -0.020429\n",
            "2016-02-03    0.019599\n",
            "2016-02-04    0.008003\n",
            "2016-02-05   -0.027071\n",
            "2016-02-08    0.010475\n",
            "2016-02-09   -0.000211\n",
            "2016-02-10   -0.007609\n",
            "2016-02-11   -0.006065\n",
            "2016-02-12    0.003090\n",
            "2016-02-16    0.027804\n",
            "2016-02-17    0.015199\n",
            "2016-02-18   -0.019138\n",
            "2016-02-19   -0.002288\n",
            "2016-02-22    0.008708\n",
            "2016-02-23   -0.022865\n",
            "2016-02-24    0.014781\n",
            "2016-02-25    0.006844\n",
            "2016-02-26    0.001549\n",
            "2016-02-29   -0.002273\n",
            "Name: log, dtype: float64\n"
          ]
        },
        {
          "output_type": "display_data",
          "data": {
            "image/png": "[encoded data removed]",
            "text/plain": [
              "<Figure size 432x288 with 1 Axes>"
            ]
          },
          "metadata": {
            "needs_background": "light"
          }
        }
      ]
    },
    {
      "cell_type": "code",
      "source": [
        "class stockoption():\n",
        "\n",
        "\tdef __init__(self, S0, K, r, T, N, prm):\n",
        "\t\t\"\"\"\n",
        "\t\tInitialise parameters\n",
        "\t\t:param S0: initial stock price\n",
        "\t\t:param K: strike price\n",
        "\t\t:param r: risk free interest rate per year\n",
        "\t\t:param T: length of option in years\n",
        "\t\t:param N: number of binomial iterations\n",
        "\t\t:param prm: dictionary with additional parameters\n",
        "\t\t\"\"\"\n",
        "\t\tself.S0 = S0\n",
        "\t\tself.K = K\n",
        "\t\tself.r = r\n",
        "\t\tself.T = T\n",
        "\t\tself.N = N\n",
        "\t\t\"\"\"\n",
        "\t\tprm parameters:\n",
        "\t\tstart = date from when you want to analyse stocks, \"yyyy-mm-dd\"\n",
        "\t\tend = date of final stock analysis (likely current date), \"yyyy-mm-dd\"\n",
        "\t\ttk = ticker label\n",
        "\t\tdiv = dividend paid\n",
        "\t\tis_calc = is volatility calculated using stock price history, boolean\n",
        "\t\tuse_garch = use GARCH model, boolean\n",
        "\t\tsigma = volatility of stock\n",
        "\t\tis_call = is it a call option, boolean\n",
        "\t\teu_option = European or American option, boolean\n",
        "\t\t\"\"\"\n",
        "\t\tself.tk = prm.get('tk', None)\n",
        "\t\tself.start = prm.get('start', None)\n",
        "\t\tself.end = prm.get('end', None)\n",
        "\t\tself.div = prm.get('div', 0)\n",
        "\t\tself.is_calc = prm.get('is_calc', False)\n",
        "\t\tself.use_garch = prm.get('use_garch', False)\n",
        "\t\tself.vol = stock_vol(self.tk, self.start, self.end)\n",
        "\t\tif self.is_calc:\n",
        "\t\t\tif self.use_garch:\n",
        "\t\t\t\tself.sigma = self.vol.garch_sigma()\n",
        "\t\t\telse:\n",
        "\t\t\t\tself.sigma = self.vol.mean_sigma()\n",
        "\t\telse:\n",
        "\t\t\tself.sigma = prm.get('sigma', 0)\n",
        "\t\tself.is_call = prm.get('is_call', True)\n",
        "\t\tself.eu_option = prm.get('eu_option', True)\n",
        "\t\t'''\n",
        "\t\tderived values:\n",
        "\t\tdt = time per step, in years\n",
        "\t\tdf = discount factor\n",
        "\t\t'''\n",
        "\t\tself.dt = float(T)/float(N)\n",
        "\t\tself.df = float(math.exp(-(r-self.div)*self.dt))"
      ],
      "metadata": {
        "id": "j2MtwcD-elba"
      },
      "execution_count": 122,
      "outputs": []
    },
    {
      "cell_type": "code",
      "source": [
        "class euro_option(stockoption):\n",
        "\t'''\n",
        "\tcalculate required preliminary parameters:\n",
        "\tu = factor change of upstate\n",
        "\td = factor change of downstate\n",
        "\tqu = risk free upstate probability\n",
        "\tqd = risk free downstate probability\n",
        "\tM = number of nodes\n",
        "\t'''\n",
        "\tdef __int_prms__(self):\n",
        "\t\tself.M = float(self.N + 1) \n",
        "\t\tself.u = float(math.exp(self.sigma*math.sqrt(self.dt)))\n",
        "\t\tself.d = float(1./self.u)\n",
        "\t\tself.qu = float(math.exp((self.r-self.div)*self.dt)-self.d)/float(self.u-self.d)\n",
        "\t\tself.qd = float(1-self.qu)\n",
        "\t\t\n",
        "\tdef stocktree(self):\n",
        "\t\tstocktree = np.zeros([self.M, self.M])\n",
        "\t\tfor i in range(self.M):\n",
        "\t\t\tfor j in range(self.M):\n",
        "\t\t\t\tstocktree[j, i] = self.S0*(self.u**(i-j))*(self.d**j)\n",
        "\t\treturn stocktree\n",
        "\n",
        "\tdef option_price(self, stocktree):\n",
        "\t\toption = np.zeros([self.M, self.M])\n",
        "\t\tif self.is_call:\n",
        "\t\t\toption[:, self.M-1] = np.maximum(np.zeros(self.M), (stocktree[:, self.N] - self.K))\n",
        "\t\telse:\n",
        "\t\t\toption[:, self.M-1] = np.maximum(np.zeros(self.M), (self.K - stocktree[:, self.N]))\n",
        "\t\treturn option\n",
        "\n",
        "\tdef optpricetree(self, option):\n",
        "\t\tfor i in np.arange(self.M-2, -1, -1):\n",
        "\t\t\tfor j in range(0, i+1):\n",
        "\t\t\t\toption[j, i] = math.exp(-self.r*self.dt) * (self.qu*option[j, i+1]+self.qd*option[j+1, i+1])\n",
        "\t\treturn option\n",
        "\n",
        "\tdef begin_tree(self):\n",
        "\t\tstocktree = self.stocktree()\n",
        "\t\tpayoff = self.option_price(stocktree)\n",
        "\t\treturn self.optpricetree(payoff)\n",
        "\n",
        "\tdef price(self):\n",
        "\t\tself.__int_prms__()\n",
        "\t\tself.stocktree()\n",
        "\t\tpayoff = self.begin_tree()\n",
        "\t\treturn payoff[0, 0]"
      ],
      "metadata": {
        "id": "sj4Tiqh7rzDN"
      },
      "execution_count": 127,
      "outputs": []
    },
    {
      "cell_type": "code",
      "source": [
        "# Source:\n",
        "# https://github.com/VivekPa/BinomialOptModel/blob/master/eu_option.py"
      ],
      "metadata": {
        "id": "_uKwm8-5eHCM"
      },
      "execution_count": null,
      "outputs": []
    },
    {
      "cell_type": "markdown",
      "metadata": {
        "id": "-vwnJ7Im3nYQ"
      },
      "source": [
        "### Monte Carlo"
      ]
    },
    {
      "cell_type": "markdown",
      "metadata": {
        "id": "7-XaK2v3gEjc"
      },
      "source": [
        "Researched various Monte Carlo methods; Did not seem to be flexible enough for me to use with different inputs"
      ]
    },
    {
      "cell_type": "code",
      "metadata": {
        "colab": {
          "base_uri": "https://localhost:8080/"
        },
        "id": "4843240oFSS5",
        "outputId": "f2a21822-a16c-4615-bdb8-d1c750e6419d"
      },
      "source": [
        "number_of_simulations = 10000\n",
        "amount_underlying = 100\n",
        "mu = 0.06 \n",
        "\n",
        "#S0 = 15 #sp? stock price?\n",
        "strike = 1.1 #ep\n",
        "sigma = 0.2 #stdev\n",
        "r = 0.015 #ir\n",
        "\n",
        "def payoff(x):\n",
        "    return amount_underlying * np.maximum(0, x-strike)\n",
        "\n",
        "num0 = np.random.normal(0, 1, number_of_simulations)\n",
        "\n",
        "S1 = np.exp(r-sigma**2/2+sigma*num0)\n",
        "\n",
        "C0 = math.exp(-r)*np.mean(payoff(S1))\n",
        "\n",
        "print(C0)"
      ],
      "execution_count": null,
      "outputs": [
        {
          "output_type": "stream",
          "name": "stdout",
          "text": [
            "4.914759206784416\n"
          ]
        }
      ]
    },
    {
      "cell_type": "code",
      "metadata": {
        "colab": {
          "base_uri": "https://localhost:8080/"
        },
        "id": "KH8IieGoaAf6",
        "outputId": "7885604b-d3fb-4289-c5ff-f75ca3517dc9"
      },
      "source": [
        "class European_Call_Payoff:\n",
        "\n",
        "    def __init__(self, strike):\n",
        "        self.strike = strike\n",
        "\n",
        "    def get_payoff(self, stock_price):\n",
        "        if stock_price > self.strike:\n",
        "            return stock_price - self.strike\n",
        "        else:\n",
        "            return 0\n",
        "\n",
        "\n",
        "class GeometricBrownianMotion:\n",
        "\n",
        "    def simulate_paths(self):\n",
        "        while(self.T - self.dt > 0):\n",
        "            dWt = np.random.normal(0, math.sqrt(self.dt))  # Brownian motion\n",
        "            dYt = self.drift*self.dt + self.volatility*dWt  # Change in price\n",
        "            self.current_price += dYt  # Add the change to the current price\n",
        "            self.prices.append(self.current_price)  # Append new price to series\n",
        "            self.T -= self.dt  # Accound for the step in time\n",
        "\n",
        "    def __init__(self, initial_price, drift, volatility, dt, T):\n",
        "        self.current_price = initial_price\n",
        "        self.initial_price = initial_price\n",
        "        self.drift = drift\n",
        "        self.volatility = volatility\n",
        "        self.dt = dt\n",
        "        self.T = T\n",
        "        self.prices = []\n",
        "        self.simulate_paths()\n",
        "\n",
        "# Model Parameters\n",
        "paths = 100\n",
        "initial_price = 100\n",
        "drift = .08\n",
        "volatility = .3\n",
        "dt = 1/365\n",
        "T = 1\n",
        "\n",
        "price_paths = []\n",
        "\n",
        "# Generate a set of sample paths\n",
        "for i in range(0, paths):\n",
        "    price_paths.append(GeometricBrownianMotion(initial_price, drift, volatility, dt, T).prices)\n",
        "\n",
        "call_payoffs = []\n",
        "ec = European_Call_Payoff(100)\n",
        "risk_free_rate = .01\n",
        "for price_path in price_paths:\n",
        "    call_payoffs.append(ec.get_payoff(price_path[-1])/(1 + risk_free_rate))  # We get the last stock price in the series generated by GBM to determin the payoff and discount it by one year\n",
        "\n",
        "# # Plot the set of generated sample paths\n",
        "# for price_path in price_paths:\n",
        "#     plt.plot(price_path)\n",
        "# plt.show()\n",
        "\n",
        "print(np.average(call_payoffs)*100)  # Options are in blocks of 100\n"
      ],
      "execution_count": null,
      "outputs": [
        {
          "output_type": "stream",
          "name": "stdout",
          "text": [
            "20.352184064835228\n"
          ]
        }
      ]
    },
    {
      "cell_type": "code",
      "metadata": {
        "id": "e-ZPzR-yaQ-F"
      },
      "source": [
        "# Source:\n",
        "# https://towardsdatascience.com/monte-carlo-pricing-in-python-eafc29e3b6c9"
      ],
      "execution_count": null,
      "outputs": []
    },
    {
      "cell_type": "code",
      "metadata": {
        "id": "kiZD--ah3mNX"
      },
      "source": [
        "# Notes:\n",
        "# https://en.wikipedia.org/wiki/Monte_Carlo_methods_for_option_pricing\n",
        "# Since the underlying random process is the same, for enough price paths, \n",
        "# the value of a european option here should be the same as under Black–Scholes."
      ],
      "execution_count": null,
      "outputs": []
    },
    {
      "cell_type": "markdown",
      "metadata": {
        "id": "4GJT13HvaSua"
      },
      "source": [
        "### LSTM model"
      ]
    },
    {
      "cell_type": "code",
      "metadata": {
        "id": "840ZfFH7kRZE"
      },
      "source": [
        "# Define the LSTM model\n",
        "LSTM_model = Sequential()\n",
        "#Adding the first LSTM layer and some Dropout regularisation\n",
        "LSTM_model.add(LSTM(units = 5, return_sequences = True, input_shape = (Xtrain.shape[1], 1)))\n",
        "LSTM_model.add(Dropout(0.2))\n",
        "# Adding a second LSTM layer and some Dropout regularisation\n",
        "LSTM_model.add(LSTM(units = 5, return_sequences = True))\n",
        "LSTM_model.add(Dropout(0.2))\n",
        "# Adding a third LSTM layer and some Dropout regularisation\n",
        "LSTM_model.add(LSTM(units = 5, return_sequences = True))\n",
        "LSTM_model.add(Dropout(0.2))\n",
        "# Adding a fourth LSTM layer and some Dropout regularisation\n",
        "LSTM_model.add(LSTM(units = 5))\n",
        "LSTM_model.add(Dropout(0.2))\n",
        "# Adding the output layer\n",
        "LSTM_model.add(Dense(units = 1))"
      ],
      "execution_count": 112,
      "outputs": []
    },
    {
      "cell_type": "code",
      "metadata": {
        "id": "AoRcNkWA5pZW"
      },
      "source": [
        "initial_learning_rate=1e-3\n",
        "lr_schedule = tf.keras.optimizers.schedules.ExponentialDecay(\n",
        "    initial_learning_rate,\n",
        "    decay_steps=100000, \n",
        "    decay_rate=0.96,\n",
        "    staircase=True\n",
        ")"
      ],
      "execution_count": 113,
      "outputs": []
    },
    {
      "cell_type": "code",
      "metadata": {
        "id": "gC0FY85-kRRl"
      },
      "source": [
        "LSTM_model.compile(optimizer=tf.keras.optimizers.Adam(learning_rate=lr_schedule),\n",
        "              loss = 'mean_squared_error')"
      ],
      "execution_count": 115,
      "outputs": []
    },
    {
      "cell_type": "code",
      "metadata": {
        "colab": {
          "base_uri": "https://localhost:8080/"
        },
        "id": "-gyBdHpYkRNb",
        "outputId": "544fdd09-e02a-4173-ff07-c4a947fb4675"
      },
      "source": [
        "# Fitting to the training set\n",
        "LSTM_history = LSTM_model.fit(Xtrain, \n",
        "                    ytrain, \n",
        "                    epochs = 100, \n",
        "                    batch_size = 2,\n",
        "                    validation_data= (X_val, y_val),\n",
        "                    validation_batch_size = 1,\n",
        "                    validation_freq=1,\n",
        "                    verbose=1)"
      ],
      "execution_count": 116,
      "outputs": [
        {
          "output_type": "stream",
          "name": "stdout",
          "text": [
            "Epoch 1/100\n",
            "400/400 [==============================] - 12s 14ms/step - loss: 1469.7108 - val_loss: 1123.8979\n",
            "Epoch 2/100\n",
            "400/400 [==============================] - 4s 9ms/step - loss: 1227.1025 - val_loss: 984.7771\n",
            "Epoch 3/100\n",
            "400/400 [==============================] - 4s 9ms/step - loss: 1085.5177 - val_loss: 869.1888\n",
            "Epoch 4/100\n",
            "400/400 [==============================] - 4s 10ms/step - loss: 964.6554 - val_loss: 768.0302\n",
            "Epoch 5/100\n",
            "400/400 [==============================] - 4s 9ms/step - loss: 867.3727 - val_loss: 679.6829\n",
            "Epoch 6/100\n",
            "400/400 [==============================] - 4s 10ms/step - loss: 770.4781 - val_loss: 601.2268\n",
            "Epoch 7/100\n",
            "400/400 [==============================] - 4s 9ms/step - loss: 683.0704 - val_loss: 532.1951\n",
            "Epoch 8/100\n",
            "400/400 [==============================] - 4s 10ms/step - loss: 627.4775 - val_loss: 473.0783\n",
            "Epoch 9/100\n",
            "400/400 [==============================] - 4s 9ms/step - loss: 551.1757 - val_loss: 420.6734\n",
            "Epoch 10/100\n",
            "400/400 [==============================] - 4s 9ms/step - loss: 500.0465 - val_loss: 375.2538\n",
            "Epoch 11/100\n",
            "400/400 [==============================] - 4s 9ms/step - loss: 458.2025 - val_loss: 337.1316\n",
            "Epoch 12/100\n",
            "400/400 [==============================] - 4s 9ms/step - loss: 410.6271 - val_loss: 305.3898\n",
            "Epoch 13/100\n",
            "400/400 [==============================] - 4s 9ms/step - loss: 390.7065 - val_loss: 278.9993\n",
            "Epoch 14/100\n",
            "400/400 [==============================] - 4s 9ms/step - loss: 358.2934 - val_loss: 257.7122\n",
            "Epoch 15/100\n",
            "400/400 [==============================] - 4s 9ms/step - loss: 325.2026 - val_loss: 241.0540\n",
            "Epoch 16/100\n",
            "400/400 [==============================] - 4s 9ms/step - loss: 314.3159 - val_loss: 228.1266\n",
            "Epoch 17/100\n",
            "400/400 [==============================] - 4s 9ms/step - loss: 294.2232 - val_loss: 218.7109\n",
            "Epoch 18/100\n",
            "400/400 [==============================] - 4s 9ms/step - loss: 269.5312 - val_loss: 211.8258\n",
            "Epoch 19/100\n",
            "400/400 [==============================] - 4s 9ms/step - loss: 265.1045 - val_loss: 206.6974\n",
            "Epoch 20/100\n",
            "400/400 [==============================] - 4s 9ms/step - loss: 271.7928 - val_loss: 203.6170\n",
            "Epoch 21/100\n",
            "400/400 [==============================] - 4s 9ms/step - loss: 263.8251 - val_loss: 201.5417\n",
            "Epoch 22/100\n",
            "400/400 [==============================] - 4s 9ms/step - loss: 257.2751 - val_loss: 200.3743\n",
            "Epoch 23/100\n",
            "400/400 [==============================] - 4s 10ms/step - loss: 254.8747 - val_loss: 165.5227\n",
            "Epoch 24/100\n",
            "400/400 [==============================] - 4s 9ms/step - loss: 210.4647 - val_loss: 136.3069\n",
            "Epoch 25/100\n",
            "400/400 [==============================] - 4s 9ms/step - loss: 196.2518 - val_loss: 123.1240\n",
            "Epoch 26/100\n",
            "400/400 [==============================] - 4s 10ms/step - loss: 174.1398 - val_loss: 113.6341\n",
            "Epoch 27/100\n",
            "400/400 [==============================] - 4s 9ms/step - loss: 167.2088 - val_loss: 106.1536\n",
            "Epoch 28/100\n",
            "400/400 [==============================] - 4s 10ms/step - loss: 158.4909 - val_loss: 100.6148\n",
            "Epoch 29/100\n",
            "400/400 [==============================] - 4s 9ms/step - loss: 149.6349 - val_loss: 95.2677\n",
            "Epoch 30/100\n",
            "400/400 [==============================] - 4s 9ms/step - loss: 129.6008 - val_loss: 88.9001\n",
            "Epoch 31/100\n",
            "400/400 [==============================] - 4s 9ms/step - loss: 134.0566 - val_loss: 77.1934\n",
            "Epoch 32/100\n",
            "400/400 [==============================] - 4s 10ms/step - loss: 129.4252 - val_loss: 75.3733\n",
            "Epoch 33/100\n",
            "400/400 [==============================] - 4s 10ms/step - loss: 113.1179 - val_loss: 69.8192\n",
            "Epoch 34/100\n",
            "400/400 [==============================] - 4s 11ms/step - loss: 119.8175 - val_loss: 63.0543\n",
            "Epoch 35/100\n",
            "400/400 [==============================] - 5s 11ms/step - loss: 118.6880 - val_loss: 59.9783\n",
            "Epoch 36/100\n",
            "400/400 [==============================] - 4s 10ms/step - loss: 109.4172 - val_loss: 53.0002\n",
            "Epoch 37/100\n",
            "400/400 [==============================] - 4s 10ms/step - loss: 101.7074 - val_loss: 50.3649\n",
            "Epoch 38/100\n",
            "400/400 [==============================] - 4s 11ms/step - loss: 108.3450 - val_loss: 46.4566\n",
            "Epoch 39/100\n",
            "400/400 [==============================] - 4s 10ms/step - loss: 105.1151 - val_loss: 43.5391\n",
            "Epoch 40/100\n",
            "400/400 [==============================] - 4s 10ms/step - loss: 96.0793 - val_loss: 39.7847\n",
            "Epoch 41/100\n",
            "400/400 [==============================] - 4s 10ms/step - loss: 94.5759 - val_loss: 43.2193\n",
            "Epoch 42/100\n",
            "400/400 [==============================] - 4s 10ms/step - loss: 90.5579 - val_loss: 38.6739\n",
            "Epoch 43/100\n",
            "400/400 [==============================] - 4s 11ms/step - loss: 92.1211 - val_loss: 36.0282\n",
            "Epoch 44/100\n",
            "400/400 [==============================] - 4s 10ms/step - loss: 86.0312 - val_loss: 33.4573\n",
            "Epoch 45/100\n",
            "400/400 [==============================] - 4s 10ms/step - loss: 87.6105 - val_loss: 34.3243\n",
            "Epoch 46/100\n",
            "400/400 [==============================] - 4s 10ms/step - loss: 80.9411 - val_loss: 34.5036\n",
            "Epoch 47/100\n",
            "400/400 [==============================] - 4s 10ms/step - loss: 82.2267 - val_loss: 33.3305\n",
            "Epoch 48/100\n",
            "400/400 [==============================] - 4s 10ms/step - loss: 77.7543 - val_loss: 31.8470\n",
            "Epoch 49/100\n",
            "400/400 [==============================] - 4s 10ms/step - loss: 74.8878 - val_loss: 33.6619\n",
            "Epoch 50/100\n",
            "400/400 [==============================] - 4s 10ms/step - loss: 82.6370 - val_loss: 37.3817\n",
            "Epoch 51/100\n",
            "400/400 [==============================] - 4s 10ms/step - loss: 78.7577 - val_loss: 28.9669\n",
            "Epoch 52/100\n",
            "400/400 [==============================] - 4s 10ms/step - loss: 71.7959 - val_loss: 26.8983\n",
            "Epoch 53/100\n",
            "400/400 [==============================] - 4s 10ms/step - loss: 73.3769 - val_loss: 27.1894\n",
            "Epoch 54/100\n",
            "400/400 [==============================] - 4s 10ms/step - loss: 81.7689 - val_loss: 29.2887\n",
            "Epoch 55/100\n",
            "400/400 [==============================] - 4s 10ms/step - loss: 78.9007 - val_loss: 25.0946\n",
            "Epoch 56/100\n",
            "400/400 [==============================] - 4s 9ms/step - loss: 75.1714 - val_loss: 26.7965\n",
            "Epoch 57/100\n",
            "400/400 [==============================] - 4s 10ms/step - loss: 73.7682 - val_loss: 24.4184\n",
            "Epoch 58/100\n",
            "400/400 [==============================] - 4s 10ms/step - loss: 66.8779 - val_loss: 26.4671\n",
            "Epoch 59/100\n",
            "400/400 [==============================] - 4s 10ms/step - loss: 67.0723 - val_loss: 24.0722\n",
            "Epoch 60/100\n",
            "400/400 [==============================] - 4s 10ms/step - loss: 70.6289 - val_loss: 22.4207\n",
            "Epoch 61/100\n",
            "400/400 [==============================] - 4s 10ms/step - loss: 70.8764 - val_loss: 20.9478\n",
            "Epoch 62/100\n",
            "400/400 [==============================] - 4s 9ms/step - loss: 77.7971 - val_loss: 20.2352\n",
            "Epoch 63/100\n",
            "400/400 [==============================] - 4s 10ms/step - loss: 65.5088 - val_loss: 20.2647\n",
            "Epoch 64/100\n",
            "400/400 [==============================] - 4s 9ms/step - loss: 73.2643 - val_loss: 27.9575\n",
            "Epoch 65/100\n",
            "400/400 [==============================] - 4s 10ms/step - loss: 73.9898 - val_loss: 18.1721\n",
            "Epoch 66/100\n",
            "400/400 [==============================] - 4s 10ms/step - loss: 64.2247 - val_loss: 20.5124\n",
            "Epoch 67/100\n",
            "400/400 [==============================] - 4s 10ms/step - loss: 67.9252 - val_loss: 17.3085\n",
            "Epoch 68/100\n",
            "400/400 [==============================] - 4s 10ms/step - loss: 62.6936 - val_loss: 20.1795\n",
            "Epoch 69/100\n",
            "400/400 [==============================] - 4s 10ms/step - loss: 56.6824 - val_loss: 17.2981\n",
            "Epoch 70/100\n",
            "400/400 [==============================] - 4s 10ms/step - loss: 69.0801 - val_loss: 22.9145\n",
            "Epoch 71/100\n",
            "400/400 [==============================] - 4s 9ms/step - loss: 61.9730 - val_loss: 14.5543\n",
            "Epoch 72/100\n",
            "400/400 [==============================] - 4s 9ms/step - loss: 59.6855 - val_loss: 16.4547\n",
            "Epoch 73/100\n",
            "400/400 [==============================] - 4s 9ms/step - loss: 60.6721 - val_loss: 12.8302\n",
            "Epoch 74/100\n",
            "400/400 [==============================] - 4s 10ms/step - loss: 64.6933 - val_loss: 12.0897\n",
            "Epoch 75/100\n",
            "400/400 [==============================] - 4s 10ms/step - loss: 60.6064 - val_loss: 10.7947\n",
            "Epoch 76/100\n",
            "400/400 [==============================] - 4s 10ms/step - loss: 56.5370 - val_loss: 11.5045\n",
            "Epoch 77/100\n",
            "400/400 [==============================] - 4s 9ms/step - loss: 51.9572 - val_loss: 13.0593\n",
            "Epoch 78/100\n",
            "400/400 [==============================] - 4s 9ms/step - loss: 52.2911 - val_loss: 9.2872\n",
            "Epoch 79/100\n",
            "400/400 [==============================] - 4s 9ms/step - loss: 55.0961 - val_loss: 11.2941\n",
            "Epoch 80/100\n",
            "400/400 [==============================] - 4s 9ms/step - loss: 51.8297 - val_loss: 8.5607\n",
            "Epoch 81/100\n",
            "400/400 [==============================] - 4s 9ms/step - loss: 53.4283 - val_loss: 14.0871\n",
            "Epoch 82/100\n",
            "400/400 [==============================] - 4s 10ms/step - loss: 53.9093 - val_loss: 8.9089\n",
            "Epoch 83/100\n",
            "400/400 [==============================] - 4s 10ms/step - loss: 49.2073 - val_loss: 15.4111\n",
            "Epoch 84/100\n",
            "400/400 [==============================] - 4s 10ms/step - loss: 45.9039 - val_loss: 7.8234\n",
            "Epoch 85/100\n",
            "400/400 [==============================] - 4s 10ms/step - loss: 56.4367 - val_loss: 9.6852\n",
            "Epoch 86/100\n",
            "400/400 [==============================] - 4s 9ms/step - loss: 50.2360 - val_loss: 11.9875\n",
            "Epoch 87/100\n",
            "400/400 [==============================] - 4s 9ms/step - loss: 53.4669 - val_loss: 12.1674\n",
            "Epoch 88/100\n",
            "400/400 [==============================] - 4s 9ms/step - loss: 50.7771 - val_loss: 8.1372\n",
            "Epoch 89/100\n",
            "400/400 [==============================] - 4s 9ms/step - loss: 53.5603 - val_loss: 9.0327\n",
            "Epoch 90/100\n",
            "400/400 [==============================] - 4s 9ms/step - loss: 57.9509 - val_loss: 13.1213\n",
            "Epoch 91/100\n",
            "400/400 [==============================] - 4s 9ms/step - loss: 54.6478 - val_loss: 6.9283\n",
            "Epoch 92/100\n",
            "400/400 [==============================] - 4s 9ms/step - loss: 50.0564 - val_loss: 6.4957\n",
            "Epoch 93/100\n",
            "400/400 [==============================] - 4s 9ms/step - loss: 52.5588 - val_loss: 5.8986\n",
            "Epoch 94/100\n",
            "400/400 [==============================] - 4s 9ms/step - loss: 52.2724 - val_loss: 6.8579\n",
            "Epoch 95/100\n",
            "400/400 [==============================] - 4s 9ms/step - loss: 43.2603 - val_loss: 5.6514\n",
            "Epoch 96/100\n",
            "400/400 [==============================] - 4s 9ms/step - loss: 45.6977 - val_loss: 5.9451\n",
            "Epoch 97/100\n",
            "400/400 [==============================] - 4s 9ms/step - loss: 46.1814 - val_loss: 7.5407\n",
            "Epoch 98/100\n",
            "400/400 [==============================] - 4s 9ms/step - loss: 46.9090 - val_loss: 5.7302\n",
            "Epoch 99/100\n",
            "400/400 [==============================] - 4s 9ms/step - loss: 46.2064 - val_loss: 7.4008\n",
            "Epoch 100/100\n",
            "400/400 [==============================] - 4s 9ms/step - loss: 43.2938 - val_loss: 8.2302\n"
          ]
        }
      ]
    },
    {
      "cell_type": "code",
      "metadata": {
        "colab": {
          "base_uri": "https://localhost:8080/"
        },
        "id": "XBmQqh9okQpB",
        "outputId": "c60352b6-70c9-4b14-f8bd-a575e2d3341a"
      },
      "source": [
        "LSTM_history.history.keys()"
      ],
      "execution_count": 129,
      "outputs": [
        {
          "output_type": "execute_result",
          "data": {
            "text/plain": [
              "dict_keys(['loss', 'val_loss'])"
            ]
          },
          "metadata": {},
          "execution_count": 129
        }
      ]
    },
    {
      "cell_type": "markdown",
      "source": [
        "Loss is going down which is good; it might go down further with more training epochs"
      ],
      "metadata": {
        "id": "QhE9ex1i2Aq-"
      }
    },
    {
      "cell_type": "code",
      "metadata": {
        "colab": {
          "base_uri": "https://localhost:8080/",
          "height": 295
        },
        "id": "g0O8XE9RGL7f",
        "outputId": "96a80571-9f48-4dce-bdfe-75d60e39973d"
      },
      "source": [
        "print_loss_history(LSTM_history.history, logscale=True)"
      ],
      "execution_count": 130,
      "outputs": [
        {
          "output_type": "display_data",
          "data": {
            "image/png": "[encoded data removed]",
            "text/plain": [
              "<Figure size 432x288 with 1 Axes>"
            ]
          },
          "metadata": {
            "needs_background": "light"
          }
        }
      ]
    },
    {
      "cell_type": "code",
      "source": [
        "print(f\"The six number summary for training loss is:\\n {six_number_summary(LSTM_history.history['loss'])}\")\n",
        "print(f\"The six number summary for validation loss is:\\n {six_number_summary(LSTM_history.history['val_loss'])}\")"
      ],
      "metadata": {
        "colab": {
          "base_uri": "https://localhost:8080/"
        },
        "id": "SjmewEqU162y",
        "outputId": "dd6f6c4f-f791-45a4-f11c-56063208d2b2"
      },
      "execution_count": 131,
      "outputs": [
        {
          "output_type": "stream",
          "name": "stdout",
          "text": [
            "The six number summary for training loss is:\n",
            " ('Avg: 190.529', 'Min: 43.260', 'Q1: 57.634', 'Median: 78.829', 'Q3: 179.668', 'Max: 1469.711')\n",
            "The six number summary for validation loss is:\n",
            " ('Avg: 123.486', 'Min: 5.651', 'Q1: 13.106', 'Median: 30.568', 'Q3: 116.007', 'Max: 1123.898')\n"
          ]
        }
      ]
    },
    {
      "cell_type": "markdown",
      "metadata": {
        "id": "2zXiXi8t9GNk"
      },
      "source": [
        "### LSTM - Inference"
      ]
    },
    {
      "cell_type": "code",
      "metadata": {
        "id": "i6ChsqhTO1Vx"
      },
      "source": [
        "predictions = LSTM_model.predict(X_test_2)"
      ],
      "execution_count": 132,
      "outputs": []
    },
    {
      "cell_type": "code",
      "source": [
        "len(predictions)"
      ],
      "metadata": {
        "colab": {
          "base_uri": "https://localhost:8080/"
        },
        "id": "5kT3zuOg3Agx",
        "outputId": "b1b0b19d-e37f-455f-a0eb-d4d37b4fa345"
      },
      "execution_count": 134,
      "outputs": [
        {
          "output_type": "execute_result",
          "data": {
            "text/plain": [
              "100"
            ]
          },
          "metadata": {},
          "execution_count": 134
        }
      ]
    },
    {
      "cell_type": "code",
      "source": [
        "predictions[0:5]"
      ],
      "metadata": {
        "colab": {
          "base_uri": "https://localhost:8080/"
        },
        "id": "oc7kwt782474",
        "outputId": "46ad09fa-ea54-4843-de9d-7bab7c09f02b"
      },
      "execution_count": 133,
      "outputs": [
        {
          "output_type": "execute_result",
          "data": {
            "text/plain": [
              "array([[29.758482],\n",
              "       [58.63886 ],\n",
              "       [48.393574],\n",
              "       [17.748102],\n",
              "       [17.21482 ]], dtype=float32)"
            ]
          },
          "metadata": {},
          "execution_count": 133
        }
      ]
    },
    {
      "cell_type": "code",
      "source": [
        "y_true = y_test_nparray\n",
        "y_pred_lstm = predictions "
      ],
      "metadata": {
        "id": "LC2ot67IGXye"
      },
      "execution_count": 144,
      "outputs": []
    },
    {
      "cell_type": "code",
      "source": [
        "print('MAE:', metrics.mean_absolute_error(y_true, y_pred_lstm))  \n",
        "print('MSE:', metrics.mean_squared_error(y_true, y_pred_lstm))  \n",
        "print('RMSE:', np.sqrt(metrics.mean_squared_error(y_true, y_pred_lstm)))\n",
        "print('VarScore:', metrics.explained_variance_score(y_true, y_pred_lstm))"
      ],
      "metadata": {
        "colab": {
          "base_uri": "https://localhost:8080/"
        },
        "id": "mV6uR1xcGQQO",
        "outputId": "73b0d711-58b2-4ee2-8552-bc37883a0871"
      },
      "execution_count": 145,
      "outputs": [
        {
          "output_type": "stream",
          "name": "stdout",
          "text": [
            "MAE: 2.170628662872314\n",
            "MSE: 6.905364670659484\n",
            "RMSE: 2.627806056515489\n",
            "VarScore: 0.9836784892592567\n"
          ]
        }
      ]
    },
    {
      "cell_type": "code",
      "source": [
        "# Visualizing Our predictions\n",
        "fig = plt.figure(figsize=(10,5))\n",
        "plt.scatter(y_true, y_pred_lstm)\n",
        "# Perfect predictions\n",
        "plt.plot(y_true, y_true,'r')"
      ],
      "metadata": {
        "colab": {
          "base_uri": "https://localhost:8080/",
          "height": 337
        },
        "id": "tiNa2Z5CHK73",
        "outputId": "f54f7b42-4021-4c49-debb-8412dfc5c00c"
      },
      "execution_count": 146,
      "outputs": [
        {
          "output_type": "execute_result",
          "data": {
            "text/plain": [
              "[<matplotlib.lines.Line2D at 0x7fe16bc63690>]"
            ]
          },
          "metadata": {},
          "execution_count": 146
        },
        {
          "output_type": "display_data",
          "data": {
            "image/png": "[encoded data removed]",
            "text/plain": [
              "<Figure size 720x360 with 1 Axes>"
            ]
          },
          "metadata": {
            "needs_background": "light"
          }
        }
      ]
    },
    {
      "cell_type": "markdown",
      "source": [
        "### Miscellaneous"
      ],
      "metadata": {
        "id": "q2xR80w833DQ"
      }
    },
    {
      "cell_type": "code",
      "metadata": {
        "colab": {
          "base_uri": "https://localhost:8080/",
          "height": 279
        },
        "id": "g_9CgwINzMEq",
        "outputId": "b4c0d4dd-8d87-4b55-906c-d24c802eb81e"
      },
      "source": [
        "# Example: European call option payoff; 100 shares, $1.1 strike price\n",
        "k = 1.1\n",
        "def payoff(x):\n",
        "    return 100*np.maximum(0,x-k)\n",
        "x=np.linspace(0, 2, 100)\n",
        "y=payoff(x)\n",
        "plt.plot(x,y)\n",
        "plt.xlabel('Stock price at expiry')\n",
        "plt.ylabel('Payoff')\n",
        "plt.show()"
      ],
      "execution_count": null,
      "outputs": [
        {
          "output_type": "display_data",
          "data": {
            "image/png": "[encoded data removed]",
            "text/plain": [
              "<Figure size 432x288 with 1 Axes>"
            ]
          },
          "metadata": {
            "needs_background": "light"
          }
        }
      ]
    },
    {
      "cell_type": "code",
      "metadata": {
        "colab": {
          "base_uri": "https://localhost:8080/"
        },
        "id": "DDhOqF_XR3DF",
        "outputId": "38d2ac19-8812-49ca-d78e-4aa8558b7ca7"
      },
      "source": [
        "import numpy as np\n",
        "import math\n",
        "Nsim = 10000\n",
        "amount_underlying = 100\n",
        "strike = 1.1\n",
        "sigma = 0.2\n",
        "mu = 0.06\n",
        "r = 0.015\n",
        "def payoff(x):\n",
        "    return amount_underlying * np.maximum(0, x-strike)\n",
        "num0 = np.random.normal(0,1,Nsim)\n",
        "S0 = 15\n",
        "S1 = np.exp(r-sigma**2/2+sigma*num0)\n",
        "C0 = math.exp(-r)*np.mean(payoff(S1))\n",
        "print(C0)"
      ],
      "execution_count": null,
      "outputs": [
        {
          "output_type": "stream",
          "name": "stdout",
          "text": [
            "4.633914478710289\n"
          ]
        }
      ]
    },
    {
      "cell_type": "code",
      "metadata": {
        "colab": {
          "base_uri": "https://localhost:8080/"
        },
        "id": "C_xw3ph3R2q8",
        "outputId": "20657924-caaa-4646-c602-e682be50e1b4"
      },
      "source": [
        "import numpy as np\n",
        "from scipy.stats import norm\n",
        "amount_underlying = 100\n",
        "strike = 1.1\n",
        "sigma = 0.2\n",
        "mu = 0.06\n",
        "r = 0.015\n",
        "S0 = 1\n",
        "t = 1\n",
        "def fun_d1(sigma,k,t,r,x):\n",
        "    return (np.log(x/k) + (r+sigma**2/2)*t)/(sigma*np.sqrt(t))\n",
        "def fun_d2(sigma,k,t,r,x):\n",
        "    return fun_d1(sigma,k,t,r,x) - sigma*np.sqrt(t)\n",
        "def call_value(amount_underlying, sigma,k,t,r,x):\n",
        "    d1 = fun_d1(sigma,k,t,r,x)\n",
        "    d2 = fun_d2(sigma,k,t,r,x)\n",
        "    temp = norm.cdf(d1)*x-norm.cdf(d2)*k*np.exp(-r*t)\n",
        "    return amount_underlying * temp\n",
        "   \n",
        "C0 = call_value(amount_underlying, sigma,strike,t,r,S0)\n",
        "print(C0)"
      ],
      "execution_count": null,
      "outputs": [
        {
          "output_type": "stream",
          "name": "stdout",
          "text": [
            "4.775025500484964\n"
          ]
        }
      ]
    },
    {
      "cell_type": "code",
      "metadata": {
        "colab": {
          "base_uri": "https://localhost:8080/"
        },
        "id": "LrdmXmmyGeC_",
        "outputId": "8d24558b-a7c5-4eff-c843-9c2662f3a735"
      },
      "source": [
        "!pip install beautifulsoup4"
      ],
      "execution_count": null,
      "outputs": [
        {
          "output_type": "stream",
          "name": "stdout",
          "text": [
            "Requirement already satisfied: beautifulsoup4 in /usr/local/lib/python3.7/dist-packages (4.6.3)\n"
          ]
        }
      ]
    }
  ]
}